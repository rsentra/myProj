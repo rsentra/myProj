{
 "cells": [
  {
   "cell_type": "code",
   "execution_count": 1,
   "metadata": {},
   "outputs": [],
   "source": [
    "import pandas as pd\n",
    "\n",
    "path='C:/kpayins/11.Tobe분석/07 채널/채널인터페이스 개발산출물_자동차계약.xlsx'\n",
    "dd=pd.read_excel(path,sheet_name='목록',header=0,dtype='object',na_filter=False)\n",
    "\n",
    "dfAll=pd.DataFrame()\n",
    "exp1=\"(I.str.contains('O') or O.str.contains('O')) and (한글명.str.contains('코드') or 한글명.str.contains('여부'))\"\n",
    "exp2=\"(I.str.contains('O') or O.str.contains('O') or I2.str.contains('O') or O2.str.contains('O')) and (한글명.str.contains('코드') or 한글명.str.contains('여부'))\""
   ]
  },
  {
   "cell_type": "code",
   "execution_count": 4,
   "metadata": {},
   "outputs": [
    {
     "name": "stdout",
     "output_type": "stream",
     "text": [
      "자계_CcrE020\n"
     ]
    }
   ],
   "source": [
    "# for sht in dd['시트명'].unique():\n",
    "for sht in ['자계_CcrE020']:    \n",
    "    df=pd.read_excel(path,sheet_name=sht,header=6,dtype='object',na_filter=False)\n",
    "    print(sht)\n",
    "    if len(df.columns)>15:\n",
    "        df.rename(columns={'I.1':'I2','O.1':'O2'},inplace=True)\n",
    "        dfT=df.query(exp2,engine='python')\n",
    "    else: \n",
    "        dfT=df.query(exp1,engine='python')\n",
    "    if len(dfT)>0:\n",
    "        dfT.loc[:,'sheet']=sht\n",
    "        dfAll=pd.concat([dfAll,dfT])"
   ]
  },
  {
   "cell_type": "code",
   "execution_count": 5,
   "metadata": {},
   "outputs": [],
   "source": [
    "dfAll.to_excel('c:/kpayins/temp/chnl_E020.xlsx')"
   ]
  },
  {
   "cell_type": "code",
   "execution_count": 5,
   "metadata": {},
   "outputs": [
    {
     "data": {
      "text/html": [
       "<div>\n",
       "<style scoped>\n",
       "    .dataframe tbody tr th:only-of-type {\n",
       "        vertical-align: middle;\n",
       "    }\n",
       "\n",
       "    .dataframe tbody tr th {\n",
       "        vertical-align: top;\n",
       "    }\n",
       "\n",
       "    .dataframe thead th {\n",
       "        text-align: right;\n",
       "    }\n",
       "</style>\n",
       "<table border=\"1\" class=\"dataframe\">\n",
       "  <thead>\n",
       "    <tr style=\"text-align: right;\">\n",
       "      <th></th>\n",
       "      <th>순번</th>\n",
       "      <th>한글명</th>\n",
       "      <th>변수명</th>\n",
       "      <th>타입</th>\n",
       "      <th>길이</th>\n",
       "      <th>기본값</th>\n",
       "      <th>필수항목여부</th>\n",
       "      <th>개인정보</th>\n",
       "      <th>배열</th>\n",
       "      <th>클래스(Include)</th>\n",
       "      <th>Nested변수명</th>\n",
       "      <th>I</th>\n",
       "      <th>O</th>\n",
       "      <th>Unnamed: 13</th>\n",
       "    </tr>\n",
       "  </thead>\n",
       "  <tbody>\n",
       "  </tbody>\n",
       "</table>\n",
       "</div>"
      ],
      "text/plain": [
       "Empty DataFrame\n",
       "Columns: [순번, 한글명, 변수명, 타입, 길이, 기본값, 필수항목여부, 개인정보, 배열, 클래스(Include), Nested변수명, I, O, Unnamed: 13]\n",
       "Index: []"
      ]
     },
     "execution_count": 5,
     "metadata": {},
     "output_type": "execute_result"
    }
   ],
   "source": [
    "dfT"
   ]
  },
  {
   "cell_type": "code",
   "execution_count": null,
   "metadata": {},
   "outputs": [],
   "source": [
    "dfAll[dfAll['한글명'].str.contains('코드')]['변수명'].unique()\n",
    "dfAll[dfAll['한글명'].str.contains('코드')]['한글명'].unique()"
   ]
  },
  {
   "cell_type": "markdown",
   "metadata": {},
   "source": [
    "### 여부 컬럼 조사"
   ]
  },
  {
   "cell_type": "code",
   "execution_count": null,
   "metadata": {},
   "outputs": [],
   "source": [
    "import pandas as pd\n",
    "df=pd.read_excel('c:/kpayins/temp/chnl.xlsx',sheet_name='Sheet1',header=0,dtype='object',na_filter=False)\n",
    "dfYn=df[df['한글명'].str.contains('여부')].reset_index()"
   ]
  },
  {
   "cell_type": "code",
   "execution_count": null,
   "metadata": {},
   "outputs": [],
   "source": [
    "'''검색할 자바 소스 리스트'''\n",
    "import os,re\n",
    "allList=[]\n",
    "\n",
    "for root,dirs,files in os.walk('C:\\kis\\workspace\\kis-ccr'):\n",
    "#     print('dirs=',root,dirs)\n",
    "    for fname in files:\n",
    "        full_name=os.path.join(root,fname)\n",
    "        if full_name.endswith('.java'):\n",
    "            allList.append(full_name) #모든 파일"
   ]
  },
  {
   "cell_type": "code",
   "execution_count": 79,
   "metadata": {},
   "outputs": [
    {
     "name": "stdout",
     "output_type": "stream",
     "text": [
      "0 번째: plInqAvYn\n",
      "10 번째: crdifPrt24AgreYn\n",
      "20 번째: autoYn\n",
      "30 번째: autoTfYn\n",
      "40 번째: istmDabrdCnfYn\n",
      "50 번째: crtGdintCrdioAgreYn\n",
      "60 번째: crOwnrDscrdYn\n",
      "70 번째: xstfNisCnfstYn\n",
      "80 번째: udrtkGuVltYn\n",
      "90 번째: drveLesnYn\n",
      "100 번째: gdintSesinAgreYn\n",
      "110 번째: crtGdintSesinAgreYn\n",
      "120 번째: rlpmiDbYn\n",
      "130 번째: gdintColusAgreYn\n",
      "140 번째: crtCrccCrdioAgreYn\n",
      "150 번째: tratrRtApyn\n",
      "160 번째: inFomaYn\n",
      "170 번째: emblzYn\n",
      "180 번째: gnYn1\n",
      "190 번째: trtValdYn\n",
      "200 번째: prdm1Yn\n",
      "210 번째: isYn11\n",
      "220 번째: carAcdTrtYn\n",
      "230 번째: scicdCrNdsTpcdYn\n",
      "240 번째: absBagYn\n",
      "250 번째: cardCanclYn\n",
      "260 번째: totlsYn\n",
      "270 번째: cardCanclYn\n",
      "completed\n"
     ]
    }
   ],
   "source": [
    "keyline=[]\n",
    "dic={}\n",
    "\n",
    "for i, row in dfYn.iterrows():\n",
    "    keywd=row['변수명']\n",
    "       \n",
    "#     if i >10:\n",
    "#         break\n",
    "    if i%10==0:\n",
    "        print(i,'번째:',keywd)\n",
    "    \n",
    "    for file in allList:\n",
    "        if '.java' not in file:\n",
    "             continue\n",
    "   \n",
    "        ky=str(file.split('\\\\')[-1:])\n",
    "        ky=re.sub('[\\[|\\]|\\']','',ky)  # [ ] ' 제거\n",
    "        if ky.startswith('Io') or  ky.startswith('Fio') or ky.startswith('Vo'):\n",
    "            continue\n",
    "     \n",
    "        f=open(file,'r',encoding='utf-8')\n",
    "        lineNum=0\n",
    "  \n",
    "        while True:\n",
    "            ln=f.readline()\n",
    "            if not ln: break\n",
    "            lineNum += 1\n",
    "            if keywd in ln:  #keyword가 포함된 파일\n",
    "#                 if re.search(\"\\(.{3}\\)\",ln):  # (\"Y\") 처럼 괄호안 \"\"안에 한글자 있는 경우\n",
    "                if re.search('\\\"\\S{1}\\\"',ln):   # \"\"안에 한글자있는 경우 \n",
    "                    ln=ln.strip()\n",
    "                    keyline.append(f\"{row['sheet']}:{row['순번']}:{row['한글명']}:{row['변수명']}:{ky}:{str(lineNum)}:{ln}\")\n",
    "\n",
    "print(\"completed\")"
   ]
  },
  {
   "cell_type": "code",
   "execution_count": 80,
   "metadata": {},
   "outputs": [],
   "source": [
    "dd=pd.DataFrame(keyline)"
   ]
  },
  {
   "cell_type": "code",
   "execution_count": 81,
   "metadata": {},
   "outputs": [],
   "source": [
    "dd.to_excel('c:/kpayins/temp/chnl_yn.xlsx')"
   ]
  },
  {
   "cell_type": "code",
   "execution_count": null,
   "metadata": {},
   "outputs": [],
   "source": [
    "keyline"
   ]
  },
  {
   "cell_type": "code",
   "execution_count": null,
   "metadata": {},
   "outputs": [],
   "source": []
  }
 ],
 "metadata": {
  "kernelspec": {
   "display_name": "Python 3",
   "language": "python",
   "name": "python3"
  },
  "language_info": {
   "codemirror_mode": {
    "name": "ipython",
    "version": 3
   },
   "file_extension": ".py",
   "mimetype": "text/x-python",
   "name": "python",
   "nbconvert_exporter": "python",
   "pygments_lexer": "ipython3",
   "version": "3.7.4"
  }
 },
 "nbformat": 4,
 "nbformat_minor": 4
}
