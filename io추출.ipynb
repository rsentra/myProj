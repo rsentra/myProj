{
 "cells": [
  {
   "cell_type": "markdown",
   "metadata": {},
   "source": [
    "### 마스킹 대상 파일 및 컬럼생성"
   ]
  },
  {
   "cell_type": "code",
   "execution_count": null,
   "metadata": {},
   "outputs": [],
   "source": [
    "#마스킹 대상 파일 소스 위치 to list\n",
    "import os\n",
    "allList=[]\n",
    "fileList=[]\n",
    "f=open('c:/kpayins/temp/마스킹대상.txt',encoding='utf8')\n",
    "findl=[x.replace('\\n','') for x in f.readlines()]\n",
    "\n",
    "for root,dirs,files in os.walk('C:\\kis\\workspace\\kis-ccr'):\n",
    "#     print('dirs=',root,dirs)\n",
    "    for fname in files:\n",
    "        full_name=os.path.join(root,fname)\n",
    "        if fname in findl:  #대상파일\n",
    "            fileList.append(full_name)\n",
    "        allList.append(full_name) #모든 파일"
   ]
  },
  {
   "cell_type": "code",
   "execution_count": null,
   "metadata": {},
   "outputs": [],
   "source": [
    "#각 파일별 io name to list\n",
    "ioName=[]\n",
    "dic={}\n",
    "\n",
    "for file in fileList:\n",
    "    f=open(file,'r',encoding='utf-8')\n",
    "    while True:\n",
    "        ln=f.readline()\n",
    "        if not ln: break\n",
    "        if ('public' in ln) & ('doProcessInternal(' in ln):  #소스상 io선언\n",
    "            idx=ln.find('doProcessInternal(')+18\n",
    "            ky=file.split('\\\\')[-1:][0]\n",
    "            dic[ky]=ln[idx:idx+9]+'.java'   #io파일명 추출\n"
   ]
  },
  {
   "cell_type": "code",
   "execution_count": null,
   "metadata": {},
   "outputs": [],
   "source": [
    "# iofile_Dict 생성\n",
    "ioLis=dic.values()\n",
    "iofile_List=[a.split('\\\\')[-1:][0] for i in ioLis for a in allList if i in a]\n",
    "iofile_Dict=dict([(k,a) for k,i in dic.items() for a in allList if i in a])\n",
    "# iofile_Path=[a for i in ioLis for a in allList if i in a]\n",
    "print('notfnd=',[x for x in ioLis if x not in iofile_List])"
   ]
  },
  {
   "cell_type": "code",
   "execution_count": null,
   "metadata": {},
   "outputs": [],
   "source": [
    "# iofile_Dict 읽어 마스킹 대상 필드를 식별한다"
   ]
  },
  {
   "cell_type": "code",
   "execution_count": null,
   "metadata": {},
   "outputs": [],
   "source": [
    "tbl='마스킹컬럼.xlsx'\n",
    "path='c:/kpayins/11.Tobe분석/'\n",
    "read_file=path+tbl\n",
    "df_mask=pd.read_excel(read_file,sheet_name='컬럼',header=0)"
   ]
  },
  {
   "cell_type": "code",
   "execution_count": null,
   "metadata": {},
   "outputs": [],
   "source": [
    "import re\n",
    "def evaluate_field(fld_nm,df):\n",
    "    for i,row in df.iterrows():\n",
    "        if row['pattern']=='단어일치':\n",
    "            p=re.compile(f\"^{row['column_nm']}$\",re.IGNORECASE)\n",
    "        elif row['pattern']=='끝단어':   \n",
    "            p=re.compile(f\"\\w*{row['column_nm']}$\",re.IGNORECASE)\n",
    "        elif row['pattern']=='단어포함':   \n",
    "            p=re.compile(f\"\\w*{row['column_nm']}\\w*\",re.IGNORECASE)\n",
    "        else: \n",
    "            print('error',row)\n",
    "            return None\n",
    "    \n",
    "        if re.match(p,fld_nm):\n",
    "#             print('succ',row,fld_nm)\n",
    "            return row['type']\n",
    "    return None\n"
   ]
  },
  {
   "cell_type": "code",
   "execution_count": null,
   "metadata": {},
   "outputs": [],
   "source": [
    "##vo를 읽어 필드명,  id, 길이를 추출  \n",
    "import os,re\n",
    "import pandas as pd\n",
    "# dd={'SvCcrD020.java': 'C:\\\\kis\\\\workspace\\\\kis-ccr\\\\kis-ccr-shared\\\\kis-ccr-Cr\\\\src\\\\main\\\\java\\\\com\\\\kakaopay\\\\ccr\\\\Cr\\\\Cmn\\\\vo\\\\IoCcrD020.java'}\n",
    "df_ListAll=pd.DataFrame()\n",
    "\n",
    "for file_nm,path in iofile_Dict.items():\n",
    "    dic={}\n",
    "    f=open(path,'r',encoding='utf-8')\n",
    "     #대상파일 read 및 처리    \n",
    "    lines=f.readlines()\n",
    "    startp=0\n",
    "#     print(path,lines)\n",
    "    io_nm=path.split('\\\\')[-1:][0]\n",
    "    for i,line in enumerate(lines):\n",
    "        if line.find('public class')>=0:\n",
    "            startp=1 \n",
    "        elif line.find('public')>=0:\n",
    "             break\n",
    "\n",
    "#         print(line)\n",
    "        if startp==1:\n",
    "            line=line.strip()\n",
    "            ss= line[line.find('(')+1:line.find(')')].replace('\"','')\n",
    "            if line.find('@JsonProperty')>=0:  #컬럼정보\n",
    "                dic['file']=file_nm\n",
    "                dic['io']=io_nm\n",
    "                dic['line']=i+1\n",
    "                dic['c_id']=ss\n",
    "            if line.find('@LocalName')>=0:    #컬럼한글\n",
    "                dic['c_nm']=ss\n",
    "            if line.find('private')>=0:     #컬럼정보 끝나면 해당컬럼이 마스킹 대상인지 판별\n",
    "                res=evaluate_field(dic['c_id'],df_mask)\n",
    "                if res:\n",
    "                    dic['type']=res\n",
    "                    df_ListAll=df_ListAll.append(dic,ignore_index=True)\n",
    "                dic={}\n",
    "                \n",
    "df_ListAll=df_ListAll.append(dic,ignore_index=True)\n",
    "            \n",
    "# print(df_ListAll)   \n",
    "wrt_file='c:/kpayins/temp/마스킹대상서비스io.xlsx'\n",
    "with pd.ExcelWriter(os.path.join(wrt_file)) as writer:  \n",
    "         df_ListAll.to_excel(writer, sheet_name='마스킹대상',index=False),\n",
    "        \n",
    "\n",
    "f.close()\n",
    "print('job complted..')"
   ]
  },
  {
   "cell_type": "markdown",
   "metadata": {},
   "source": [
    "### 암복호화 미적용->적용"
   ]
  },
  {
   "cell_type": "code",
   "execution_count": null,
   "metadata": {},
   "outputs": [],
   "source": [
    "tbl='암호화컬럼_CRPTO_ERR.xlsx'\n",
    "path='c:/kpayins/temp/'\n",
    "read_file=path+tbl\n",
    "df_enc=pd.read_excel(read_file,sheet_name='data',header=0)\n",
    "df_enc.fillna(method='ffill',inplace=True)\n",
    "df_enc['file_nm']=df_enc['Class'].apply(lambda x: x.split('.')[-1:][0])+'.java'\n",
    "exp='Field==\"@class\" & 대상==True & 실제==False'  #미적용된 vo class\n",
    "df_mod = df_enc.query(exp)\n",
    "voLis=list(df_mod['file_nm'].unique())\n",
    "# voLis=list(df_enc['file_nm'].unique())"
   ]
  },
  {
   "cell_type": "code",
   "execution_count": null,
   "metadata": {},
   "outputs": [],
   "source": [
    "# 전체 파일리스트에서 해당 class 파일 찾아서 파일명,경로 dict생성\n",
    "vofile_List=[(a.split('\\\\')[-1:][0],a) for i in voLis for a in allList if i in a]\n",
    "dic_vo=dict(vofile_List)"
   ]
  },
  {
   "cell_type": "code",
   "execution_count": null,
   "metadata": {},
   "outputs": [],
   "source": [
    "# 미적용 class파일을 열어 적용하여 출력\n",
    "for i,row in df_mod.iterrows():\n",
    "# for i,row in df_enc2.iterrows():  #암호화 누락class\n",
    "    file=dic_vo.get(row['file_nm']) #file open 및 출력파일\n",
    "    f=open(file,'r',encoding='utf-8')\n",
    "    lines=f.readlines()\n",
    "    fw=open(f\"c:/kpayins/temp/{row['file_nm']}\",'w',encoding='utf-8')\n",
    "    exp=f\"Class=='{row['Class']}' & Field !='@class'\"\n",
    "    df_t=df_enc.query(exp)  #누락 컬럼정보\n",
    "    \n",
    "    if len(df_t[df_t.실제==True])==0:\n",
    "        import_yn =True  # 모두 미적용이면 crypto import\n",
    "    else: \n",
    "        import_yn =False\n",
    "\n",
    "    for i,line in enumerate(lines):\n",
    "        if ('import' in line) & (import_yn==True):\n",
    "            fw.write(f'import com.kakaopay.framework.crypto.Crypto;\\n') #1.import crypto적용\n",
    "            import_yn =False\n",
    "        if line.find('public class')>=0:                                #2.class crypto적용\n",
    "            fw.write(f'@Crypto\\n')      \n",
    "            startp=True\n",
    "        elif line.find('public')>=0:\n",
    "            startp=False\n",
    "\n",
    "        if startp==True:\n",
    "            for i,row in df_t.iterrows():\n",
    "                if row['Field']==\"@class\":\n",
    "                    continue\n",
    "                if (row['Field'] in line) & (row['대상']==True) & (row['실제']==False):\n",
    "                    fw.write(f'\\t@Crypto\\n')                        #3. 컬럼 crypto적용\n",
    "        fw.write(line)\n",
    "\n",
    "    f.close()\n",
    "    fw.close()\n",
    "    \n",
    "print('completed')"
   ]
  },
  {
   "cell_type": "markdown",
   "metadata": {},
   "source": [
    "### 특정 KEYWORD가 들어있는 라인을 추출"
   ]
  },
  {
   "cell_type": "code",
   "execution_count": null,
   "metadata": {},
   "outputs": [],
   "source": [
    "#각 파일을 읽어 특정 KEYWORD가 들어있는 라인을 추출\n",
    "keyline=[]\n",
    "dic={}\n",
    "keywd='umsUtil.send' #ums발송하는 업무\n",
    "\n",
    "for file in allList:\n",
    "    if '.java' not in file:\n",
    "         continue\n",
    "\n",
    "    f=open(file,'r',encoding='utf-8')\n",
    "    lineNum=0\n",
    "    ky=str(file.split('\\\\')[-1:])\n",
    "    ky=re.sub('[\\[|\\]|\\']','',ky)  # [ ] ' 제거\n",
    "    while True:\n",
    "        ln=f.readline()\n",
    "        if not ln: break\n",
    "        lineNum += 1\n",
    "        if keywd in ln:  #keyword가 포함된 파일\n",
    "            ln=ln.strip()\n",
    "            keyline.append(f'{ky}:{str(lineNum)}:{ln}')\n"
   ]
  },
  {
   "cell_type": "code",
   "execution_count": null,
   "metadata": {},
   "outputs": [],
   "source": [
    "df=pd.DataFrame([i.split(':') for i in keyline])\n",
    "df.to_excel('c:/kpayins/temp/ums발송목록.xlsx')"
   ]
  },
  {
   "cell_type": "code",
   "execution_count": null,
   "metadata": {},
   "outputs": [],
   "source": []
  }
 ],
 "metadata": {
  "kernelspec": {
   "display_name": "Python 3",
   "language": "python",
   "name": "python3"
  },
  "language_info": {
   "codemirror_mode": {
    "name": "ipython",
    "version": 3
   },
   "file_extension": ".py",
   "mimetype": "text/x-python",
   "name": "python",
   "nbconvert_exporter": "python",
   "pygments_lexer": "ipython3",
   "version": "3.7.4"
  }
 },
 "nbformat": 4,
 "nbformat_minor": 4
}
