{
 "cells": [
  {
   "cell_type": "code",
   "execution_count": null,
   "metadata": {},
   "outputs": [],
   "source": [
    "import os\n",
    "import pandas as pd"
   ]
  },
  {
   "cell_type": "code",
   "execution_count": 189,
   "metadata": {},
   "outputs": [],
   "source": [
    "## 테라ts로 부터 컬럼정보(이름,길이,순서)를 뽑아내는 script\n",
    "ts_path='D:/kpayins/02.참조모델/03 배치/KKO_tera_20200708/'\n",
    "# ts_file=\"TSP-btCcrM301_7742.ts\"\n",
    "ts_file=\"TSP-btCcrM303_7743.ts\"\n",
    "data=open(ts_path+ts_file,'r',encoding='cp949').read()\n",
    "\n",
    "#고정길이 파일 ffd -- global로 분리하여 처음나오는 것\n",
    "fld=data.split('$global_ffd 1')[1]\n",
    "#필드분리 : 첫번째는 파일정보, 두번째부터 필드정보\n",
    "fld=fld.replace('!nm','.nm')\n",
    "fld=fld.replace('*ffd_grp_id','.ffd_grp_id')\n",
    "fld=fld.replace('+ffd_id','.ffd_id')\n",
    "fld=fld.replace('#ffd_col_id','.ffd_col_id')\n",
    "file_info=fld.split('$+')[0]\n",
    "col_info=fld.split('$+')[1:-1]"
   ]
  },
  {
   "cell_type": "code",
   "execution_count": 190,
   "metadata": {},
   "outputs": [],
   "source": [
    "nmList=[]\n",
    "locList=[]\n",
    "sizeList=[]\n",
    "descList=[]\n",
    "#파일정보추출\n",
    "for f in file_info.split('.'):\n",
    "    nm,val = f.split('=')\n",
    "    val=val.replace('\\n','').replace('\"','')\n",
    "    if nm in(['nm','length','num_col','desc1']):\n",
    "        if nm=='nm':\n",
    "            nmList.append(val)\n",
    "        if nm=='length':\n",
    "            sizeList.append(int(val)) \n",
    "        if nm=='num_col':\n",
    "            locList.append(int(val)) \n",
    "        if nm=='desc1':\n",
    "            descList.append(val) \n",
    "#컬럼정보추출\n",
    "for col in col_info:\n",
    "    col=col.strip()\n",
    "    for s in col.split('.'):\n",
    "        if len(s.strip())>0:\n",
    "            nm,val= s.split('=')\n",
    "            val=val.replace('\\n','').replace('\"','')\n",
    "            if nm in(['nm','col_loc','col_size','desc1']):\n",
    "                if nm=='nm':\n",
    "                    nmList.append(val.lower())  \n",
    "                if nm=='col_size':\n",
    "                    sizeList.append(int(val)) \n",
    "                if nm=='col_loc':\n",
    "                    locList.append(int(val)) \n",
    "                if nm=='desc1':\n",
    "                    descList.append(val) \n",
    "         "
   ]
  },
  {
   "cell_type": "code",
   "execution_count": 191,
   "metadata": {},
   "outputs": [],
   "source": [
    "s_dict={\"nm\":nmList,\"width\":sizeList,\"loc\":locList,\"desc\":descList}\n",
    "df=pd.DataFrame(s_dict)"
   ]
  },
  {
   "cell_type": "code",
   "execution_count": 192,
   "metadata": {},
   "outputs": [
    {
     "name": "stdout",
     "output_type": "stream",
     "text": [
      "end\n"
     ]
    }
   ],
   "source": [
    "wrt_file= 'd:/kpayins/temp/'+ ts_file.replace('.ts','.xlsx')\n",
    "with pd.ExcelWriter(wrt_file) as writer:  \n",
    "      df.to_excel(writer, sheet_name='colList',index=True)    \n",
    "print(\"end\")"
   ]
  },
  {
   "cell_type": "code",
   "execution_count": null,
   "metadata": {},
   "outputs": [],
   "source": []
  }
 ],
 "metadata": {
  "kernelspec": {
   "display_name": "Python 3",
   "language": "python",
   "name": "python3"
  },
  "language_info": {
   "codemirror_mode": {
    "name": "ipython",
    "version": 3
   },
   "file_extension": ".py",
   "mimetype": "text/x-python",
   "name": "python",
   "nbconvert_exporter": "python",
   "pygments_lexer": "ipython3",
   "version": "3.7.4"
  }
 },
 "nbformat": 4,
 "nbformat_minor": 4
}
