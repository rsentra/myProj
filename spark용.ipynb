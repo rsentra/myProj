{
 "cells": [
  {
   "cell_type": "markdown",
   "metadata": {},
   "source": [
    "### import spark 등등"
   ]
  },
  {
   "cell_type": "code",
   "execution_count": 1,
   "metadata": {},
   "outputs": [],
   "source": [
    "import pandas as pd\n",
    "from pyspark.sql import SparkSession\n",
    "from pyspark.context import SparkContext\n",
    "from pyspark.sql.functions import *\n",
    "from pyspark.sql.types import * \n",
    "from datetime import date, timedelta, datetime\n",
    "import time\n",
    "\n",
    "#spark session생성\n",
    "sc = SparkSession.builder.appName(\"PysparkExample\").config(\"spark.sql.shuffle.partitions\",\"50\").config(\"spark.driver.maxResultSize\",\"5g\").config(\"spark.sql.execution.arrow.enabled\", \"true\").getOrCreate()"
   ]
  },
  {
   "cell_type": "markdown",
   "metadata": {},
   "source": [
    "#### file을 읽어 df & table생성"
   ]
  },
  {
   "cell_type": "code",
   "execution_count": 3,
   "metadata": {},
   "outputs": [
    {
     "name": "stdout",
     "output_type": "stream",
     "text": [
      "v13_202011\n",
      "153\n",
      "Row(plyno='CA20201000038000', gdcd='CA00101001', cvrcd='CCA00001', cvr_seqno='1', nelp_da_flgcd='03', ins_itm_smccd='CA00003', cnrdt='20201102', ins_st='20201102', ins_clstr='20211102', cvr_ins_st='20201102', cvr_ins_clstr='20211102', cvr_ap_prm='74430', isamt_cd='00001', nelp_days='337', nelp_prm='68718', ce_br_orgcd='A000000', ce_bzp_orgcd='A000002', ce_stfno='kpayins070', cr_usecd='1', rp_pth_flgcd=None, cvr_ad_cr_yn='0', co_obj_as_yn='0', ins_imcd='CA00101', sng_cr_flgcd='03', gn_co_obj_flgcd='01', gn_co_appr_flgcd='01', prdm1_is_yn='1', co_obj_psrt='100', ps_st_nelp_prm='68718', cls_yymm='20201130', sys_mpv_dt=None, chbf_nelp_days='0', chaf_nelp_days='337', chbf_ap_prm='0', chaf_ap_prm='74430', chbf_aprt=None, chaf_aprt=None, chbf_rp_prm=None, chaf_rp_prm=None, chbf_ins_days='0', chaf_ins_days='0', annu_ins_days='365', catcd='22', apldt='20201102', week_yn='N', week_ins_st=None, week_nelp_days='0', nelp_prm_week='0', nelp_prm_gn='68718', ps_st_nelp_prm_week='0', ps_st_nelp_prm_gn='68718', onw_cr_flgcd=None, ce_befo_pstcd=None, cvr_spqu_flgcd=None, trtcd='CCA00001')\n"
     ]
    }
   ],
   "source": [
    "fn='13_202011.dat'\n",
    "tbl='v'+ fn.replace('.dat','')\n",
    "print(tbl)\n",
    "BAT_DATA_HOME='c:/kis/workspace/kis-batch-job/file_home/ccr'\n",
    "df=sc.read.csv(f\"{BAT_DATA_HOME}/btCcrj301/fioBtCcrj301_{fn}\",sep=\"\\t\", header=\"true\")\n",
    "df.createOrReplaceTempView(tbl)\n",
    "print(df.count())\n",
    "print(df.head())"
   ]
  },
  {
   "cell_type": "code",
   "execution_count": null,
   "metadata": {},
   "outputs": [],
   "source": [
    "print(tbl)\n",
    "cols=f'plyno,cvrcd,cvr_seqno,trtcd'\n",
    "cols=f'plyno,cvrcd,cvr_ins_st,cvr_ins_clstr,cvr_ins_st2,cvr_ins_clstr2'\n",
    "cols=f'NELP_PRM,NELP_PRM_WEEK,NELP_PRM_GN,nelp_days,TRT_AP_CVR_PRMSM'\n",
    "cols=f' * '\n",
    "# w='where cast(NELP_DAYS as int) > 0 OR (cast(NELP_DAYS as int) <= 0 AND WEEK_CVRCD = \"CCA00192\" AND trim(INCM_PRM) != \"\")'\n",
    "w=( f'where !(a.NELP_PRM <= 0 AND a.NELP_PRM_WEEK <= 0 \\n' \n",
    "    f'AND a.NELP_PRM_GN <= 0)'\n",
    "  )\n",
    "\n",
    "q=f\"select {cols}  from {tbl} {w}\"\n",
    "# q=f\"select   from {tbl} {w}\"\n",
    "sc.sql(q).show(100)\n",
    "print(w)"
   ]
  },
  {
   "cell_type": "code",
   "execution_count": null,
   "metadata": {},
   "outputs": [],
   "source": [
    "q=f'''\n",
    "  select max(bdin2_pym_ct) from v04_01_dec\n",
    "   where plyno=\"CA20201000056000\"\n",
    "   '''\n",
    "# print(q)\n",
    "sc.sql(q).show()"
   ]
  },
  {
   "cell_type": "code",
   "execution_count": null,
   "metadata": {},
   "outputs": [],
   "source": [
    "sc.sql('select nelp_days,nelp_prm_gn,nelp_prm_gn*100 from v03 where nelp_prm_gn is not null').show()"
   ]
  },
  {
   "cell_type": "code",
   "execution_count": 49,
   "metadata": {},
   "outputs": [
    {
     "name": "stdout",
     "output_type": "stream",
     "text": [
      "+--------------------------------------------------------------------------------+\n",
      "|sum(CAST((CAST(NELP_PRM_GN AS DOUBLE) * CAST(1000 AS DOUBLE)) AS DECIMAL(10,0)))|\n",
      "+--------------------------------------------------------------------------------+\n",
      "|                                                                     14598710000|\n",
      "+--------------------------------------------------------------------------------+\n",
      "\n"
     ]
    }
   ],
   "source": [
    "q=\"select sum(decimal(NELP_PRM_GN*1000)) from v13_202011\"\n",
    "# q=\"select 999900000000*1.1 from v13_202011 limit 1\"\n",
    "sc.sql(q).show()\n"
   ]
  },
  {
   "cell_type": "code",
   "execution_count": 22,
   "metadata": {},
   "outputs": [
    {
     "data": {
      "text/plain": [
       "DataFrame[NELP_PRM_GN: string]"
      ]
     },
     "execution_count": 22,
     "metadata": {},
     "output_type": "execute_result"
    }
   ],
   "source": [
    "df.groupby('NELP_PRM_GN').sum()"
   ]
  },
  {
   "cell_type": "code",
   "execution_count": null,
   "metadata": {},
   "outputs": [],
   "source": [
    "# sc.table('101_13').write.csv('d:/kpayins/ss.txt', sep='\\t', header='true', emptyValue='')\n",
    "df.write.format('com.databricks.spark.csv').option('header','true').save('d:/kpayins/ss.csv')"
   ]
  },
  {
   "cell_type": "code",
   "execution_count": null,
   "metadata": {},
   "outputs": [],
   "source": [
    "df.filter(df[\"plyno\"]=='0311201000070000').show()  #filter"
   ]
  },
  {
   "cell_type": "code",
   "execution_count": null,
   "metadata": {},
   "outputs": [],
   "source": [
    "# datafram조회\n",
    "cols=['bdins1_ifprm','bdins1_dcprm']\n",
    "df.select(cols).show(10)  #columns sel"
   ]
  },
  {
   "cell_type": "code",
   "execution_count": null,
   "metadata": {},
   "outputs": [],
   "source": [
    "#when조건\n",
    "df.select('plyno',when(df.ppdt != '20201102',1).otherwise(0)).show(3)"
   ]
  },
  {
   "cell_type": "code",
   "execution_count": null,
   "metadata": {},
   "outputs": [],
   "source": [
    "df.filter(df[\"ppdt\"]>'20201122').show()  #filter"
   ]
  },
  {
   "cell_type": "code",
   "execution_count": null,
   "metadata": {},
   "outputs": [],
   "source": [
    "#isin\n",
    "df[df.ppdt.isin('20201102')].show(3)"
   ]
  },
  {
   "cell_type": "code",
   "execution_count": null,
   "metadata": {},
   "outputs": [],
   "source": [
    "df.select('plyno','ppdt',df.plyno.startswith(\"CA\")).show(5)"
   ]
  },
  {
   "cell_type": "code",
   "execution_count": null,
   "metadata": {},
   "outputs": [],
   "source": [
    "df.groupby('ppdt').count().show(2)"
   ]
  },
  {
   "cell_type": "code",
   "execution_count": null,
   "metadata": {},
   "outputs": [],
   "source": [
    "# df.sort(df.ppdt.desc()).show()\n",
    "df.orderBy([\"ppdt\",\"plyno\"],ascending=[0,1]).show()"
   ]
  },
  {
   "cell_type": "code",
   "execution_count": null,
   "metadata": {},
   "outputs": [],
   "source": [
    "df.select(['plyno','cvrcd']).show()"
   ]
  },
  {
   "cell_type": "code",
   "execution_count": null,
   "metadata": {},
   "outputs": [],
   "source": [
    "wkDate='20201130'\n",
    "calc_expr13=f'''\n",
    "\n",
    "'''"
   ]
  },
  {
   "cell_type": "code",
   "execution_count": null,
   "metadata": {},
   "outputs": [],
   "source": [
    "q=f'select {calc_expr13},INCM_PRM,RL_CVR_ST,NELP_PRM_WEEK from v03T'\n",
    "sc.sql(q).show()"
   ]
  },
  {
   "cell_type": "code",
   "execution_count": null,
   "metadata": {},
   "outputs": [],
   "source": [
    "calc_expr13"
   ]
  },
  {
   "cell_type": "code",
   "execution_count": null,
   "metadata": {},
   "outputs": [],
   "source": [
    "w='where plyno= \"CA20201000070000\"'\n",
    "cols='calc_gb,TRT_AP_CVR_PRMSM,NELP_DAYS,INCM_PRM,CHAF_AP_PRM,trim(SYS_MPV_DT),NELP_PRM_WEEK,TRT_AP_CVR_PRMSM,ANNU_INS_DAYS,RL_CVR_ST,AP_NUMR,AP_DNMT'\n",
    "q=f'select {calc_expr4},{cols} from v02_1  {w}'\n",
    "sc.sql(q).show()"
   ]
  },
  {
   "cell_type": "code",
   "execution_count": null,
   "metadata": {},
   "outputs": [],
   "source": [
    "fn='00.dat'\n",
    "tbl='v'+ fn.replace('.dat','')\n",
    "print(tbl)\n",
    "BAT_DATA_HOME='c:/kis/workspace/kis-batch-job/file_home/ccr'\n",
    "df=sc.read.csv(f\"{BAT_DATA_HOME}/btCcrJ301/fioBtCcrJ301_{fn}\",sep=\"\\t\", header=\"true\")\n",
    "df.createOrReplaceTempView(tbl)\n",
    "cols=f'SYS_MPV_DT,week_cvrcd,length(SYS_MPV_DT),trim(dctp_cvrcd),trim(sys_mpv_dt) '\n",
    "q=f'select {cols},case when trim(sys_mpv_dt)=\"\" then 1 else 2 end dd from {tbl}  '\n",
    "sc.sql(q).show()"
   ]
  },
  {
   "cell_type": "code",
   "execution_count": null,
   "metadata": {},
   "outputs": [],
   "source": [
    "fn='01.dat'\n",
    "tbl='v'+ fn.replace('.dat','')\n",
    "print(tbl)\n",
    "BAT_DATA_HOME='c:/kis/workspace/kis-batch-job/file_home/ccr'\n",
    "df=sc.read.csv(f\"{BAT_DATA_HOME}/btCcrJ103/fioBtCcrJ103_{fn}\",sep=\"\\t\", header=\"true\")\n",
    "df.createOrReplaceTempView(tbl)\n",
    "cols=f' CO_OBJ_ASNO,case when CO_OBJ_ASNO = \"\" then \"0\" else \"1\" end as co_obj_as_yn'\n",
    "q=f'select {cols} from {tbl} -- where co_obj_asno=\"\"  '\n",
    "sc.sql(q).show()"
   ]
  },
  {
   "cell_type": "code",
   "execution_count": null,
   "metadata": {},
   "outputs": [],
   "source": [
    "ss=sc.sql(\"select add_months(to_date(concat('202011','01'),'yyyyMMdd'),-1) as bef_mon\")"
   ]
  },
  {
   "cell_type": "code",
   "execution_count": null,
   "metadata": {},
   "outputs": [],
   "source": [
    "print(ss.select(\"bef_mon\").collect())\n",
    "# type(ss)"
   ]
  },
  {
   "cell_type": "code",
   "execution_count": null,
   "metadata": {},
   "outputs": [],
   "source": [
    "\n",
    "def get_Before_Mon(params):\n",
    "    try:\n",
    "        if len(params)==6:\n",
    "            params=params+'01'\n",
    "        dt= datetime.strptime(params,'%Y%m%d').replace(day=1).date()- timedelta(days=1)\n",
    "        return dt.strftime('%Y%m')\n",
    "    except  Exception as e: \n",
    "            print('param error ', e)\n",
    "            \n",
    "get_Before_Mon('202011')"
   ]
  },
  {
   "cell_type": "code",
   "execution_count": null,
   "metadata": {},
   "outputs": [],
   "source": [
    "q=\"select to_date('20201101','yyyyMMdd') as dt\"\n",
    "a=sc.sql(q)"
   ]
  },
  {
   "cell_type": "code",
   "execution_count": null,
   "metadata": {},
   "outputs": [],
   "source": [
    "sc.sql('select * from tt').show()"
   ]
  },
  {
   "cell_type": "code",
   "execution_count": null,
   "metadata": {},
   "outputs": [],
   "source": [
    "import numpy as np\n",
    "start_list=np.cumsum([1]+s_dict['width']).tolist()[:-1]"
   ]
  },
  {
   "cell_type": "code",
   "execution_count": 4,
   "metadata": {},
   "outputs": [],
   "source": [
    "## fixed length file을 읽어 dataframe return\n",
    "## fld_format은 'plyno:17, name:40' 처럼 ,와 :로 구분하여 전달\n",
    "def read_fld_file(spark,input_file,fld_format,encoding='utf-8'):\n",
    "    try:\n",
    "        cName=[]; cLen=[];\n",
    "        for s in fld_format.split(','):\n",
    "            cName.append(s.split(':')[0])\n",
    "            cLen.append(int(s.split(':')[1]))\n",
    "        s_dict={\"columns\":cName,\"width\":cLen}\n",
    "#         start_list=np.cumsum([1]+s_dict['width']).tolist()[:-1]\n",
    "# np대체로직        \n",
    "        total=1\n",
    "        start_list=[1]\n",
    "        for x in cLen:\n",
    "            total += x\n",
    "            start_list.append(total)\n",
    "        start_list = start_list[:-1]  \n",
    "        \n",
    "        if encoding==\"euc-kr\":\n",
    "            euc_data=open(input_file,'r',encoding='euc-kr').read()\n",
    "            with open(input_file+'.utf','w',encoding=\"utf-8\") as f:\n",
    "                  f.write(euc_data)\n",
    "            df=spark.read.text(input_file+'.utf')\n",
    "        else:\n",
    "            df=spark.read.text(input_file)\n",
    "\n",
    "        df=df.select(\n",
    "           [df.value.substr(\n",
    "               start_list[i],s_dict['width'][i]\n",
    "            ).alias(s_dict['columns'][i]) for i in range(len(start_list))\n",
    "           ]\n",
    "        )\n",
    "        return df\n",
    "    except  Exception as e: \n",
    "            print('file read error---> ', e)\n",
    "            return None"
   ]
  },
  {
   "cell_type": "code",
   "execution_count": 12,
   "metadata": {},
   "outputs": [],
   "source": [
    "path=\"c:/kis/workspace/kis-batch-job/file_home/ccr/btCcrM401/fioBtCcrM401_01.dat.fld\"\n",
    "fld_format='id:85,name:37,erc:2,fil:8,dsc:13,fil2:77,crnm:29,fil3:697'\n",
    "read_fld_file(sc,path,fld_format,\"euc-kr\").createOrReplaceTempView('tt')"
   ]
  },
  {
   "cell_type": "code",
   "execution_count": 13,
   "metadata": {},
   "outputs": [
    {
     "name": "stdout",
     "output_type": "stream",
     "text": [
      "+---------------------+\n",
      "|                 crnm|\n",
      "+---------------------+\n",
      "|43가1374          ...|\n",
      "|43가1374          ...|\n",
      "|43가1374          ...|\n",
      "|43가1374          ...|\n",
      "|43가1374          ...|\n",
      "|43가1374          ...|\n",
      "|43가1374          ...|\n",
      "|43가1374          ...|\n",
      "|123가1234         ...|\n",
      "|123가1234         ...|\n",
      "|213가1234         ...|\n",
      "|213가1234         ...|\n",
      "|33나5555          ...|\n",
      "|33나5555          ...|\n",
      "|33나5555          ...|\n",
      "|33나5555          ...|\n",
      "|33나5555          ...|\n",
      "|33나5555          ...|\n",
      "|33나5555          ...|\n",
      "|33나5555          ...|\n",
      "+---------------------+\n",
      "only showing top 20 rows\n",
      "\n"
     ]
    }
   ],
   "source": [
    "# sc.sql('select substr(id,20,21) from tt').show()\n",
    "sc.sql('select crnm from tt').show()"
   ]
  },
  {
   "cell_type": "code",
   "execution_count": null,
   "metadata": {},
   "outputs": [],
   "source": [
    "path=\"c:/kis/workspace/kis-batch-job/file_home/ccr/btCcrM401/fioBtCcrM401_01.dat.fld\"\n",
    "# lis_euc=open(path,'r',encoding='euc-kr').readlines()\n",
    "# with open(path+'_utf','w',encoding=\"utf-8\") as f:\n",
    "#      f.write('\\n'.join( val for val in lis_euc))\n",
    "lis_euc=open(path,'r',encoding='euc-kr').read()\n",
    "unicode(lis_euc,'euc-kr').encode('utf-8')\n",
    "\n",
    "# type(f)\n",
    "# f.write(encoding='utf-8')\n",
    "# unicode(f,'euc-kr').encode('utf-8')"
   ]
  },
  {
   "cell_type": "code",
   "execution_count": 15,
   "metadata": {},
   "outputs": [],
   "source": [
    "cName=[]\n",
    "cLen=[]\n",
    "for s in fld_format.split(','):\n",
    "#     cName.append(s.split(':')[0])\n",
    "#     cLen.append(int(s.split(':')[1]))\n",
    "    cName,cLen=s.split(':')"
   ]
  },
  {
   "cell_type": "code",
   "execution_count": 17,
   "metadata": {},
   "outputs": [
    {
     "data": {
      "text/plain": [
       "'697'"
      ]
     },
     "execution_count": 17,
     "metadata": {},
     "output_type": "execute_result"
    }
   ],
   "source": [
    "cName\n",
    "cLen"
   ]
  },
  {
   "cell_type": "code",
   "execution_count": null,
   "metadata": {},
   "outputs": [],
   "source": [
    "def accumu(lis):\n",
    "    total=0\n",
    "    for x in lis:\n",
    "        total+=x\n",
    "        yield total\n"
   ]
  },
  {
   "cell_type": "code",
   "execution_count": null,
   "metadata": {},
   "outputs": [],
   "source": [
    "total=1\n",
    "nlis=[1]\n",
    "lis=[33,2,3]\n",
    "for x in lis:\n",
    "    total+=x\n",
    "    nlis.append(total)\n",
    "#     yield total\n",
    "nlis[:-1]"
   ]
  }
 ],
 "metadata": {
  "kernelspec": {
   "display_name": "Python 3",
   "language": "python",
   "name": "python3"
  },
  "language_info": {
   "codemirror_mode": {
    "name": "ipython",
    "version": 3
   },
   "file_extension": ".py",
   "mimetype": "text/x-python",
   "name": "python",
   "nbconvert_exporter": "python",
   "pygments_lexer": "ipython3",
   "version": "3.7.4"
  }
 },
 "nbformat": 4,
 "nbformat_minor": 4
}
