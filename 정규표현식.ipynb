{
 "cells": [
  {
   "cell_type": "code",
   "execution_count": null,
   "metadata": {},
   "outputs": [],
   "source": [
    "#대문자 패턴 (' '안의 값 제외)\n",
    "p=re.compile(\"[A-Z][^'.']\")\n",
    "p1=re.compile(\"[^'*']\")"
   ]
  },
  {
   "cell_type": "code",
   "execution_count": null,
   "metadata": {},
   "outputs": [],
   "source": [
    "re.match(p,s)"
   ]
  },
  {
   "cell_type": "code",
   "execution_count": null,
   "metadata": {},
   "outputs": [],
   "source": [
    "#따옴표로 둘러싸인 값\n",
    "# re.findall(\"['+\\w+']\",s1)\n",
    "#따옴표로 둘러싸인 값 제외\n",
    "re.findall(\"[\\w]+[^'+\\w+']\",s1)\n",
    "#\n",
    "# re.findall(\"[\\w]*[^'+\\w+']\",s1)"
   ]
  },
  {
   "cell_type": "code",
   "execution_count": null,
   "metadata": {},
   "outputs": [],
   "source": [
    "re.findall(\"SQLINES DEMO \\*{3}\",s)"
   ]
  },
  {
   "cell_type": "code",
   "execution_count": null,
   "metadata": {},
   "outputs": [],
   "source": [
    "line=\" a(select max(bb.cvr_pym_seq)        /*  */\"\n",
    "# re.findall(\"/\\*\\s*\\/\",line)\n",
    "re.sub(\"/\\*\\s*\\/\",\"/* */\",line)"
   ]
  },
  {
   "cell_type": "code",
   "execution_count": null,
   "metadata": {},
   "outputs": [],
   "source": [
    "import re\n",
    "#한줄주석\n",
    "s=\" -- /SQLINES DEMO *** _RQPYM_SEQ) PRS_PLY_RQPYM_SEQ한글/* */\"\n",
    "s=\"      ,A.PYM_MTDCD  \t\t          -- 납입방법코드\"\n",
    "re.findall('^\\s--[\\d\\s\\w\\W]*',s)"
   ]
  },
  {
   "cell_type": "code",
   "execution_count": null,
   "metadata": {},
   "outputs": [],
   "source": [
    "s='--  _rqpym_seq) prs_ply_rqpym_seq'\n",
    "re.sub('--[\\d\\s\\w\\W]*','',s)"
   ]
  },
  {
   "cell_type": "code",
   "execution_count": null,
   "metadata": {},
   "outputs": [],
   "source": [
    "#곱하기 10\n",
    "def multiple10(m):\n",
    "    n=int(m.group())\n",
    "    return str(n*10)\n",
    "re.sub('[0-9]+',multiple10,' 1 2 Fizz 4 All')"
   ]
  },
  {
   "cell_type": "code",
   "execution_count": null,
   "metadata": {},
   "outputs": [],
   "source": [
    "s=\"\t,DATE_FORMAT(B.INS_CLSTR,'%Y%m%d')  CVR_INS_CLSTR    -- 담보의 보험종기 (8)\"\n",
    "min(len(s.split('--')[0]),len(s.split('/*')[0]))\n",
    "# len(s.split('/*')[0])\n",
    "mx=max(val.find('--'),val.find('/*'))\n",
    "mx"
   ]
  },
  {
   "cell_type": "code",
   "execution_count": null,
   "metadata": {},
   "outputs": [],
   "source": [
    "\n",
    "import os,re\n",
    "def toLower(s):\n",
    "    print(s)\n",
    "    str=s.group()\n",
    "    return str.lower()\n",
    "def removeFirst(s,r):\n",
    "    if s.find(r)<0:\n",
    "        return s\n",
    "    return s[0:s.find(r)]+s[s.find(r)+1:]"
   ]
  },
  {
   "cell_type": "code",
   "execution_count": null,
   "metadata": {},
   "outputs": [],
   "source": [
    "re.sub(\"[\\w]+[^'+\\w+']\",toLower,s) #소문자변환(' '제외)"
   ]
  },
  {
   "cell_type": "code",
   "execution_count": null,
   "metadata": {},
   "outputs": [],
   "source": [
    "s=\" BETWEEN STR_TO_DATE('$$1', '%Y%m%d') AND STR_TO_DATE('$$2', '%Y%m%d') 'CA0' \""
   ]
  },
  {
   "cell_type": "code",
   "execution_count": null,
   "metadata": {},
   "outputs": [],
   "source": [
    "#부정후방탐색(=%가 없으면서) ' '안에 문자를 제외한 문자 찾기\n",
    "re.findall(\"(?<!\\%)[\\w]+[^'+\\w+']\",s) "
   ]
  },
  {
   "cell_type": "code",
   "execution_count": 1,
   "metadata": {},
   "outputs": [],
   "source": [
    "import re\n",
    "s1=\"    ,  LPAD(TO_CHAR(A.INCM_PRM_CR_SEQNO),5,'0') \"  #lpad(to_char => lpad( \n",
    "s2=\" TO_CHAR(ss) \"                                     #to_char(str) => cast(str as char)\n",
    "s3= \" ( SELECT Concat('￦',IFNULL(TRIM(TO_CHAR(SUM(RP_PRM), '999,999,999')), ''))\"     #미변환\n",
    "s4=\"TRIM(TO_CHAR(RP_PRM, '999,999,999')), '')) \"  # to_char(num,format) => 미변환\n",
    "# re.findall('PAD\\(TO_CHAR\\(*',s1)\n",
    "# s2=re.sub('PAD\\(TO_CHAR\\(*','PAD(',s1)\n",
    "# if re.search('PAD\\(TO_CHAR\\(*',s1): print(1)\n",
    "s5=\"TO_CHAR( )\""
   ]
  },
  {
   "cell_type": "code",
   "execution_count": 27,
   "metadata": {},
   "outputs": [
    {
     "data": {
      "text/plain": [
       "[]"
      ]
     },
     "execution_count": 27,
     "metadata": {},
     "output_type": "execute_result"
    }
   ],
   "source": [
    "#to_char( ) 만 있는 case\n",
    "p1=re.compile(\"TO_CHAR\\([^\\(,]+\\)\") \n",
    "re.findall(p1,s4)"
   ]
  },
  {
   "cell_type": "code",
   "execution_count": 2,
   "metadata": {},
   "outputs": [
    {
     "name": "stdout",
     "output_type": "stream",
     "text": [
      "p2  [\"TO_CHAR(A.INCM_PRM_CR_SEQNO),5,'0')\"]\n",
      "p3  ['999,999,999']\n"
     ]
    }
   ],
   "source": [
    "#to_char안에 함수 또는 포맷팅이 있는 case\n",
    "p2=re.compile(\"\\w*TO_CHAR\\([\\s\\S]+\\)\") \n",
    "p3=re.compile(\"999,999,999\") \n",
    "print('p2 ',re.findall(p2,s1))\n",
    "print('p3 ',re.findall(p3,s4))\n"
   ]
  },
  {
   "cell_type": "code",
   "execution_count": 4,
   "metadata": {},
   "outputs": [
    {
     "name": "stdout",
     "output_type": "stream",
     "text": [
      "TRIM(format(RP_PRM, '0')), '')) \n"
     ]
    }
   ],
   "source": [
    "# to_char(number,format)\n",
    "if re.search(p2,s3) and re.search(p3,s3):\n",
    "#     print(re.sub(p2,s4.replace('TO_CHAR','format'),s4))\n",
    "    print(s4.replace('TO_CHAR','format').replace('999,999,999','0'))\n",
    "    \n",
    "# re.search(p2,s4) and re.search(p3,s4)"
   ]
  },
  {
   "cell_type": "code",
   "execution_count": 8,
   "metadata": {},
   "outputs": [
    {
     "name": "stdout",
     "output_type": "stream",
     "text": [
      " --AND A.CNTR_BUSN_CD <>'' \n"
     ]
    }
   ],
   "source": [
    "import re\n",
    "''' <> 찾기 '''\n",
    "s1 = \" --AND A.CNTR_BUSN_CD <> '' \"\n",
    "p2=re.compile(\"\\w*<>\\w*\")\n",
    "if re.search(p2,s1):\n",
    "    print(s1)"
   ]
  },
  {
   "cell_type": "code",
   "execution_count": 10,
   "metadata": {},
   "outputs": [],
   "source": [
    "''' != 찾기 '''\n",
    "s2 = \" --AND A.CNTR_BUSN_CD != '' \"\n",
    "p2=re.compile(\"\\w*!=\\w*\")\n",
    "if re.search(p2,s2):\n",
    "    print(s2)"
   ]
  },
  {
   "cell_type": "code",
   "execution_count": 24,
   "metadata": {},
   "outputs": [
    {
     "name": "stdout",
     "output_type": "stream",
     "text": [
      " --AND A.CNTR_BUSN_CD not  IN ('D') \n"
     ]
    }
   ],
   "source": [
    "''' not in 찾기 '''\n",
    "s3 = \" --AND A.CNTR_BUSN_CD not  IN ('D') \"\n",
    "p2=re.compile(\"\\w*NOT\\s+IN\\w*\", re.I)\n",
    "if re.search(p2,s3):\n",
    "    print(s3)"
   ]
  },
  {
   "cell_type": "code",
   "execution_count": 29,
   "metadata": {},
   "outputs": [
    {
     "name": "stdout",
     "output_type": "stream",
     "text": [
      " <if test= INTG_PRJ_NO != '' and INTG_PRJ_NO != null\n"
     ]
    }
   ],
   "source": [
    "''' if test 찾기 '''\n",
    "s4 = \" <if test= INTG_PRJ_NO != '' and INTG_PRJ_NO != null\"\n",
    "p2 = re.compile(\"\\w*IF\\s+TEST\\w*\", re.I)\n",
    "if re.search(p2,s4):\n",
    "    print(s4)"
   ]
  }
 ],
 "metadata": {
  "kernelspec": {
   "display_name": "Python 3",
   "language": "python",
   "name": "python3"
  },
  "language_info": {
   "codemirror_mode": {
    "name": "ipython",
    "version": 3
   },
   "file_extension": ".py",
   "mimetype": "text/x-python",
   "name": "python",
   "nbconvert_exporter": "python",
   "pygments_lexer": "ipython3",
   "version": "3.8.8"
  }
 },
 "nbformat": 4,
 "nbformat_minor": 4
}
