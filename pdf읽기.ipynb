{
 "cells": [
  {
   "cell_type": "code",
   "execution_count": null,
   "metadata": {},
   "outputs": [],
   "source": [
    "import tabula\n",
    "dirN='D:/kpayins/11.Tobe분석/03 인터페이스/개발원,협회/41.대외전문정의서(손보협회,보험개발원)/02.보험개발원_보험정보망 전산처리방법서/'\n",
    "fileN='보험정보망 시스템 전산처리 방법서_20200224.pdf'\n",
    "df=tabula.read_pdf(dirN+fileN,pages='1-195',pandas_options={'header':None},lattice=True)"
   ]
  },
  {
   "cell_type": "code",
   "execution_count": null,
   "metadata": {},
   "outputs": [],
   "source": [
    "df[23].loc[0,0]"
   ]
  },
  {
   "cell_type": "code",
   "execution_count": 70,
   "metadata": {},
   "outputs": [
    {
     "name": "stdout",
     "output_type": "stream",
     "text": [
      "N07011320\n",
      "N08010111\n",
      "N08010112\n",
      "N08010111\n",
      "N08010112\n",
      "N00000100\n",
      "N00000100\n",
      "N00000200\n",
      "N00000200\n",
      "N00000300\n",
      "N00000300\n",
      "N00000400\n",
      "N00000400\n",
      "N00000500\n",
      "N00000500\n",
      "N00000600\n",
      "N00000600\n",
      "N00000700\n",
      "N00000700\n",
      "N01120191\n",
      "N01120191\n",
      "N01120291\n",
      "N01120291\n",
      "N01120111\n",
      "N01120111\n",
      "N01120311\n",
      "N01120311\n",
      "N01120511\n",
      "N01120511\n",
      "N01120171\n"
     ]
    }
   ],
   "source": [
    "##header=None으로 읽을때\n",
    "import pandas as pd\n",
    "import os\n",
    "def excelwrt(tbl,dirN):\n",
    "    wrt_file=tbl.iloc[1,1].replace('/','').replace(' ','').replace('\\r','')+'.xlsx'\n",
    "#     tbl.columns.str.replace('\\r', ' ')\n",
    "    tbl = tbl.fillna('')\n",
    "    tbl.to_excel(os.path.join(dirN,wrt_file), sheet_name='layout',index=False,header=False),\n",
    "    return None\n",
    "\n",
    "tbl=pd.DataFrame()\n",
    "for dd in df:\n",
    "    if len(dd)>1:\n",
    "        if dd.iloc[0,0]=='업  무':\n",
    "            if len(tbl)>0:\n",
    "                print(tbl.iloc[1,1].replace('/','').strip())\n",
    "                excelwrt(tbl,dirN)\n",
    "                \n",
    "            tbl=pd.DataFrame()\n",
    "            df1=dd\n",
    "            tbl=pd.concat([tbl,dd],ignore_index=True)\n",
    "        else:\n",
    "            tbl=pd.concat([tbl,dd],ignore_index=True)\n",
    "\n",
    "excelwrt(tbl,dirN)"
   ]
  },
  {
   "cell_type": "code",
   "execution_count": null,
   "metadata": {},
   "outputs": [],
   "source": [
    "##header를 읽었을때\n",
    "import pandas as pd\n",
    "import os\n",
    "def excelwrt(tbl,dirN):\n",
    "    wrt_file=tbl.iloc[0,1].replace('/','').replace(' ','').replace('\\r','')+'.xlsx'\n",
    "    tbl.columns.str.replace('\\r', ' ')\n",
    "    tbl = tbl.fillna('')\n",
    "    tbl.to_excel(os.path.join(dirN,wrt_file), sheet_name='layout',index=False),\n",
    "    return None\n",
    "\n",
    "tbl=pd.DataFrame()\n",
    "for dd in df:\n",
    "    print('df->',dd)\n",
    "    if len(dd)>0:\n",
    "        if '업  무' in list(dd.columns):\n",
    "            if len(tbl)>0:\n",
    "                print(tbl.iloc[0,1].replace('/','').strip())\n",
    "                excelwrt(tbl,dirN)\n",
    "                \n",
    "            tbl=pd.DataFrame()\n",
    "            df1=dd\n",
    "            tbl=pd.concat([tbl,dd],ignore_index=True)\n",
    "        else:\n",
    "            tbl=pd.concat([tbl,dd],ignore_index=True)\n",
    "\n",
    "excelwrt(tbl,dirN)"
   ]
  },
  {
   "cell_type": "code",
   "execution_count": null,
   "metadata": {},
   "outputs": [],
   "source": [
    "tabula.read_pdf?\n"
   ]
  },
  {
   "cell_type": "code",
   "execution_count": null,
   "metadata": {},
   "outputs": [],
   "source": [
    "tbl.to_excel(os.path.join(dirN,\"ss.xlsx\"),sheet_name='layout',index=False)"
   ]
  }
 ],
 "metadata": {
  "kernelspec": {
   "display_name": "Python 3",
   "language": "python",
   "name": "python3"
  },
  "language_info": {
   "codemirror_mode": {
    "name": "ipython",
    "version": 3
   },
   "file_extension": ".py",
   "mimetype": "text/x-python",
   "name": "python",
   "nbconvert_exporter": "python",
   "pygments_lexer": "ipython3",
   "version": "3.7.4"
  }
 },
 "nbformat": 4,
 "nbformat_minor": 4
}
