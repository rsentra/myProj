{
 "cells": [
  {
   "cell_type": "code",
   "execution_count": null,
   "metadata": {},
   "outputs": [],
   "source": [
    "#----- sql params생성\n",
    "shell_params=['nm','20201101','20211130']\n",
    "nm=['stdt','nddt']\n",
    "val=shell_params[1:]\n",
    "\n",
    "def set_sql_params(shell_params,qVars,dTypes='str'):\n",
    "    shell_params= shell_params[1:]\n",
    "    if len(shell_params)!=len(qVars):\n",
    "        print('params count error...',shell_params,qVars)\n",
    "    strQ=\"'\" if dTypes.lower().find('str')>=0 else \"\"\n",
    "#     setFn=lambda a,z: \"@\"+ a +\"=\" + strQ+z+strQ +\";\"\n",
    "    setFn=lambda a,z: f\"set @{a}={strQ}{z}{strQ};\"\n",
    "    return ' '.join(list(map(setFn,qVars,shell_params)))\n",
    "\n",
    "print(set_sql_params(shell_params,nm),shell_params)"
   ]
  },
  {
   "cell_type": "code",
   "execution_count": null,
   "metadata": {},
   "outputs": [],
   "source": [
    "# df.dtypes\n",
    "# df.head() # first n row\n",
    "# df.show() # content\n",
    "# df.first() # first row\n",
    "# df.take(5)\n",
    "# df.describe().show() #summary\n",
    "# df.columns\n",
    "# df.count()\n",
    "# df.distinct().count()\n",
    "# df.explain() #pysical/logical plan\n",
    "df.printSchema()"
   ]
  },
  {
   "cell_type": "code",
   "execution_count": null,
   "metadata": {},
   "outputs": [],
   "source": [
    "q=\"select last_day(to_date('20201228','yyyyMMdd'))\"\n",
    "print(sc.sql(q).first()[0])"
   ]
  },
  {
   "cell_type": "code",
   "execution_count": null,
   "metadata": {},
   "outputs": [],
   "source": [
    "def sd_dec(a, b):\n",
    "    return '' if b is None else b.replace('<ENC>','')"
   ]
  },
  {
   "cell_type": "code",
   "execution_count": null,
   "metadata": {},
   "outputs": [],
   "source": [
    "import os,time\n",
    "# 파일체크\n",
    "d='c:/kis/workspace/kis-batch-job/file_home/ccr/btCcrJ301'\n",
    "for root,dirs,files in os.walk(d):\n",
    "    print(root,'-', dirs)\n",
    "    for fname in files:\n",
    "#         full_name=os.path.join(root,fname)\n",
    "        full_name=fname\n",
    "        print(full_name)\n"
   ]
  },
  {
   "cell_type": "markdown",
   "metadata": {},
   "source": [
    "### 작업결과 확인용"
   ]
  },
  {
   "cell_type": "code",
   "execution_count": 4,
   "metadata": {},
   "outputs": [
    {
     "name": "stdout",
     "output_type": "stream",
     "text": [
      "fioBtCcrM860_01.dat                      57   2020/12/29 15:05:58\n",
      "fioBtCcrM860_01_001.dat                  57   2020/12/29 15:07:24\n",
      "fioBtCcrM860_01_001.dat.fld              56   2020/12/29 15:07:24\n",
      "fioBtCcrM860_02.dat                      57   2020/12/29 15:07:43\n",
      "fioBtCcrM860_02.dat.fld                  56   2020/12/29 15:07:43\n",
      "fioBtCcrM860_02_head_tmp.dat             2   2020/12/29 15:08:01\n",
      "fioBtCcrM860_02_head_tmp.dat.fld         1   2020/12/29 15:08:01\n",
      "fioBtCcrM860_02_head.dat                 2   2020/12/29 15:08:18\n",
      "fioBtCcrM860_02_head.dat.fld             1   2020/12/29 15:08:18\n",
      "fioBtCcrM860_02_trailer_tmp.dat          2   2020/12/29 15:08:28\n",
      "fioBtCcrM860_02_trailer_tmp.dat.fld      1   2020/12/29 15:08:28\n",
      "fioBtCcrM860_02_trailer.dat              2   2020/12/29 15:08:51\n",
      "fioBtCcrM860_02_trailer.dat.fld          1   2020/12/29 15:08:51\n",
      "GF401120201229N03.201.fld                58   2020/12/29 15:08:58\n",
      "fioBtCcrM860_GD4011_head.dat             2   2020/12/29 15:09:19\n",
      "fioBtCcrM860_GD4011_head.dat.fld         1   2020/12/29 15:09:19\n",
      "fioBtCcrM860_GD4011_trailer.dat          2   2020/12/29 15:09:41\n",
      "fioBtCcrM860_GD4011_trailer.dat.fld      1   2020/12/29 15:09:41\n",
      "GD401120201229N03.201                    3   2020/12/29 15:09:54\n",
      "GD401120201229N03.201.fld                2   2020/12/29 15:09:54\n",
      "fioBtCcrM860_GR4011_head.dat             2   2020/12/29 15:10:07\n",
      "fioBtCcrM860_GR4011_head.dat.fld         1   2020/12/29 15:10:07\n",
      "fioBtCcrM860_GR4011_trailer.dat          2   2020/12/29 15:10:16\n",
      "fioBtCcrM860_GR4011_trailer.dat.fld      1   2020/12/29 15:10:16\n",
      "GR401120201229N03.201                    3   2020/12/29 15:10:43\n",
      "GR401120201229N03.201.fld                2   2020/12/29 15:10:44\n",
      "fioBtCcrM860_03.dat                      128   2020/12/29 15:10:47\n",
      "fioBtCcrM860_03_001.dat                  128   2020/12/29 15:14:15\n",
      "fioBtCcrM860_03_001.dat.fld              127   2020/12/29 15:14:15\n",
      "fioBtCcrM860_04.dat                      128   2020/12/29 15:14:28\n",
      "fioBtCcrM860_04.dat.fld                  127   2020/12/29 15:14:28\n",
      "fioBtCcrM860_04_head_tmp.dat             2   2020/12/29 15:14:35\n",
      "fioBtCcrM860_04_head_tmp.dat.fld         1   2020/12/29 15:14:35\n",
      "fioBtCcrM860_04_head.dat                 2   2020/12/29 15:14:43\n",
      "fioBtCcrM860_04_head.dat.fld             1   2020/12/29 15:14:43\n",
      "fioBtCcrM860_04_trailer_tmp.dat          2   2020/12/29 15:14:54\n",
      "fioBtCcrM860_04_trailer_tmp.dat.fld      1   2020/12/29 15:14:54\n",
      "fioBtCcrM860_04_trailer.dat              2   2020/12/29 15:15:07\n",
      "fioBtCcrM860_04_trailer.dat.fld          1   2020/12/29 15:15:07\n",
      "DF401120201229N03.201.fld                129   2020/12/29 15:15:12\n",
      "fioBtCcrM860_DC4011_head.dat             2   2020/12/29 15:15:20\n",
      "fioBtCcrM860_DC4011_head.dat.fld         1   2020/12/29 15:15:20\n",
      "fioBtCcrM860_DC4011_trailer.dat          2   2020/12/29 15:15:29\n",
      "fioBtCcrM860_DC4011_trailer.dat.fld      1   2020/12/29 15:15:29\n",
      "DC401120201229N03.201                    3   2020/12/29 15:15:37\n",
      "DC401120201229N03.201.fld                2   2020/12/29 15:15:37\n",
      "fioBtCcrM860_DD4011_head.dat             2   2020/12/29 15:15:43\n",
      "fioBtCcrM860_DD4011_head.dat.fld         1   2020/12/29 15:15:43\n",
      "fioBtCcrM860_DD4011_trailer.dat          2   2020/12/29 15:15:49\n",
      "fioBtCcrM860_DD4011_trailer.dat.fld      1   2020/12/29 15:15:49\n",
      "DD401120201229N03.201                    3   2020/12/29 15:15:57\n",
      "DD401120201229N03.201.fld                2   2020/12/29 15:15:57\n"
     ]
    }
   ],
   "source": [
    "import os\n",
    "import time\n",
    "d='c:/kis/workspace/kis-batch-job/file_home/ccr/btCcrM860'\n",
    "#--- dir명을 받아서 파일명,건수,최종수정일자 출력\n",
    "def print_file_info(path):\n",
    "    a=[s for s in os.listdir(path) if os.path.isfile(os.path.join(path,s))]\n",
    "    a.sort(key=lambda s: os.path.getmtime(os.path.join(path,s)))\n",
    "    for f in a:\n",
    "        try:\n",
    "            full_name= os.path.join(path,f)\n",
    "            enc= 'euc-kr' if f.endswith('.fld') else 'utf-8'\n",
    "            num_lines= open(full_name,'r',encoding=enc).read().count('\\n')\n",
    "            print(f.ljust(40,' '),num_lines, ' ',time.strftime('%Y/%m/%d %H:%M:%S',time.localtime(os.path.getmtime(full_name))))\n",
    "        except  Exception as e: \n",
    "            print(f,'file read error--',e)\n",
    "            continue\n",
    "            \n",
    "    \n",
    "\n",
    "print_file_info(d)"
   ]
  },
  {
   "cell_type": "markdown",
   "metadata": {},
   "source": [
    "### 소스검사용 "
   ]
  },
  {
   "cell_type": "code",
   "execution_count": 6,
   "metadata": {},
   "outputs": [
    {
     "name": "stdout",
     "output_type": "stream",
     "text": [
      "29   67 # value: SELECT CASE WHEN '$$1' = 'T' THEN '$$2' ELSE '$$BASE_DT' \n",
      "\n",
      " \n",
      "34   66 # value: SELECT CASE WHEN '$$1' = 'T' THEN '$$3' ELSE '$$BASE_DT'\n",
      "\n",
      " \n",
      "321   166     , case when trim(tot_cnt) = \"\" then \"0000000000\" else tot_cnt end as tot_cnt  \n",
      "321 -- 166  =decode_ex(trim($tot_cnt)==\"\", \"0000000000\", $tot_cnt), data_type_cd:1, prec:0\n",
      "\n",
      " \n",
      "435   166     , case when trim(tot_cnt) = \"\" then \"0000000000\" else tot_cnt end as tot_cnt  \n",
      "435 -- 166  =decode_ex(trim($tot_cnt)==\"\", \"0000000000\", $tot_cnt), data_type_cd:1, prec:0\n",
      "\n",
      " \n",
      "1279   166     , case when trim(tot_cnt) = \"\" then \"0000000000\" else tot_cnt end as tot_cnt  \n",
      "1279 -- 166  =decode_ex(trim($tot_cnt)==\"\", \"0000000000\", $tot_cnt), data_type_cd:1, prec:0\n",
      "\n",
      " \n",
      "1403   166     , case when trim(tot_cnt) = \"\" then \"0000000000\" else tot_cnt end as tot_cnt  \n",
      "1403 -- 166  =decode_ex(trim($tot_cnt)==\"\", \"0000000000\", $tot_cnt), data_type_cd:1, prec:0\n",
      "\n",
      " \n",
      "completed\n"
     ]
    }
   ],
   "source": [
    "#라인길이가 500 초과 라인 출력\n",
    "import os\n",
    "dName='c:/kis/workspace/kis-batch-job/python/ccr'\n",
    "fName='btCcrm861.py'\n",
    "max_cnt=10\n",
    "sv_line={}\n",
    "with open(os.path.join(dName,fName), \"r\",encoding='utf-8') as f:\n",
    "    inlines=f.readlines()\n",
    "    lists=[]\n",
    "    for i,line in enumerate(inlines):\n",
    "        if (len(line)>max_cnt) & (line.lower().find('case')>=0):\n",
    "#         if ((line.lower().find('case')>=0)& (line.replace(' ','').find('=\"\"')>=0)):\n",
    "            if line.count('--')>0:\n",
    "                print(i+1, ' ', len(line),line.split('--')[0])\n",
    "                sv_line[i+1]= line.split('--')[0]\n",
    "                print(i+1, '--', len(line),line.split('--')[1].replace('  ',' ').replace('\\t',''))\n",
    "            else:\n",
    "                print(i+1, ' ', len(line),line)\n",
    "                sv_line[i+1]= line\n",
    "            print(' ')\n",
    "print('completed')"
   ]
  },
  {
   "cell_type": "code",
   "execution_count": null,
   "metadata": {},
   "outputs": [],
   "source": [
    "def splitLine(lst,val):\n",
    "    res=[]\n",
    "    for str in lst:\n",
    "        for ii,y in enumerate(str.split(val)):\n",
    "            y=y.replace(\"'\",'\"')\n",
    "            if ii==0:\n",
    "                res.append(y)\n",
    "            else: \n",
    "                res.append(val +' ' + y)\n",
    "    return res\n",
    "#위에서 만든 dict중 exp만들려는 라인\n",
    "res=[sv_line[5313]]\n",
    "res= splitLine(res,'when')\n",
    "res= splitLine(res,'case')\n",
    "res= splitLine(res,'else')\n",
    "# res= splitLine(res,'end')\n",
    "# print(res)\n",
    "print(f\"calc_exp=f''' \")\n",
    "for i in res[1:]:\n",
    "     print(f\"    {i}\")\n",
    "#     print(f\"{i}\")\n",
    "print(f\"'''\")"
   ]
  },
  {
   "cell_type": "code",
   "execution_count": null,
   "metadata": {},
   "outputs": [],
   "source": [
    "dName='d:/temp'\n",
    "fName='4846--요일제특약_미경과보험료.txt'\n",
    "with open(os.path.join(dName,fName), \"r\",encoding='utf-8') as f:\n",
    "    inlines=f.readlines()\n",
    "    lists=[]\n",
    "    for i,line in enumerate(inlines):\n",
    "        line=line.replace('\\n','')\n",
    "        print(f\"f'    {line} \\\\n'\")"
   ]
  },
  {
   "cell_type": "code",
   "execution_count": null,
   "metadata": {},
   "outputs": [],
   "source": [
    "def find_all(a_str, sub):\n",
    "    start = 0\n",
    "    while True:\n",
    "        start = a_str.find(sub, start)\n",
    "        if start == -1: return\n",
    "        yield start\n",
    "        start += len(sub) # use start += 1 to find overlapping matches\n",
    "\n",
    "# list(find_all(ss, 'case')) # [0, 5, 10, 15]\n",
    "l=list(find_all(ss, 'when'))\n"
   ]
  },
  {
   "cell_type": "code",
   "execution_count": null,
   "metadata": {},
   "outputs": [],
   "source": [
    "def table_exists(spark,tbl):\n",
    "#     try: \n",
    "#         sc.read.table(tbl)\n",
    "#         return True\n",
    "#     except: \n",
    "#         return False\n",
    "      return spark.catalog._jcatalog.tableExists(tbl)\n",
    "\n",
    "table_exists(sc,\"v032T\")"
   ]
  },
  {
   "cell_type": "code",
   "execution_count": null,
   "metadata": {},
   "outputs": [],
   "source": [
    "def get_before_month(params):\n",
    "    try:\n",
    "        if len(params)==6:\n",
    "            params=params+'01'\n",
    "        dt= datetime.strptime(params,'%Y%m%d').replace(day=1).date()- relativedelta(days=1)\n",
    "        return dt.strftime('%Y%m')\n",
    "    except  Exception as e: \n",
    "            print('param error ', e)  "
   ]
  },
  {
   "cell_type": "code",
   "execution_count": null,
   "metadata": {},
   "outputs": [],
   "source": [
    "from datetime import date , datetime, timedelta  \n",
    "\n",
    "get_before_month('202011')"
   ]
  },
  {
   "cell_type": "code",
   "execution_count": null,
   "metadata": {},
   "outputs": [],
   "source": [
    "def diff_month(d1,d2):\n",
    "    return (d1.year - d2.year)*12+ d1.month-d2.month\n",
    "\n",
    "def month_date(d1,d2):\n",
    "    d1.year = d1.year+1 if d1.month > 12 else (d1.year-1 if d1.month+d2<1 else d1.year)\n",
    "    return (d1.year)*1+ (d1.month + d2)\n",
    "\n",
    "d1=date(2022,1,1)\n",
    "d2=date(2022,2,1)\n",
    "\n",
    "diff_month(d2,d1)"
   ]
  },
  {
   "cell_type": "code",
   "execution_count": null,
   "metadata": {},
   "outputs": [],
   "source": [
    "d1=date(2020,11,1)\n",
    "m=1\n",
    "mon=(d1.month+m)%12 \n",
    "yr= int(d1.year+(d1.month+m)/12) # if (mon!=0) else d1.year\n",
    "mon= 1 if mon==0 else mon\n",
    "mon= yr if mon==12 else yr+1\n",
    "\n",
    "print(mon)\n",
    "print(yr)"
   ]
  },
  {
   "cell_type": "code",
   "execution_count": null,
   "metadata": {},
   "outputs": [],
   "source": []
  },
  {
   "cell_type": "code",
   "execution_count": null,
   "metadata": {},
   "outputs": [],
   "source": []
  }
 ],
 "metadata": {
  "kernelspec": {
   "display_name": "Python 3",
   "language": "python",
   "name": "python3"
  },
  "language_info": {
   "codemirror_mode": {
    "name": "ipython",
    "version": 3
   },
   "file_extension": ".py",
   "mimetype": "text/x-python",
   "name": "python",
   "nbconvert_exporter": "python",
   "pygments_lexer": "ipython3",
   "version": "3.7.4"
  }
 },
 "nbformat": 4,
 "nbformat_minor": 4
}
