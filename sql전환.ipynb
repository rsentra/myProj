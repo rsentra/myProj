{
 "cells": [
  {
   "cell_type": "code",
   "execution_count": 1,
   "metadata": {},
   "outputs": [
    {
     "name": "stdout",
     "output_type": "stream",
     "text": [
      "completed\n"
     ]
    }
   ],
   "source": [
    "# main script : sql전환 및 주석정리\n",
    "import os,re\n",
    "def toLower(s):\n",
    "    str=s.group()\n",
    "    return str.lower()\n",
    "\n",
    "dName='d:/kpayins/sql전환/'\n",
    "fName='test.txt'\n",
    "\n",
    "justCmnt=True\n",
    "f=open(os.path.join(dName,fName),'r',encoding='utf-8')\n",
    "\n",
    "wName=fName.split('.')[0]+'_my'+'.'+fName.split('.')[1]\n",
    "fw=open(os.path.join(dName,wName), \"w\")\n",
    "p=re.compile('AND\\s*LIMIT', re.I)\n",
    "pCmt=re.compile('^\\s--[\\d\\s\\w\\W]*')          #--주석만 있는라인\n",
    "pCmt2=re.compile('--[\\d\\s\\w\\W]*')            #라인내 --주석\n",
    "pChar=re.compile(\"\\w*TO_CHAR\\([\\s\\S]+\\)\")    #to_char안에 number formatting\n",
    "pNum=re.compile(\"999,999,999\")               #to_char안에 number formatting\n",
    "\n",
    "sv=\"\"\n",
    "inlines=f.readlines()\n",
    "lists=[]\n",
    "for i,line in enumerate(inlines):\n",
    "    if not line: break\n",
    "    line=re.sub(pCmt,'',line)    #주석만 있는라인 제거 [필요할 경우 사용]\n",
    "    if len(line.strip())==0: continue\n",
    "        \n",
    "    line.replace('\\t','    ')     #tab -> space(4)\n",
    "    if line.strip().endswith('AND'):                #sqlines에 의한 limit전환오류 보정\n",
    "        sv=line.rstrip()+\" \"\n",
    "        continue\n",
    "    else:\n",
    "        line=sv+line\n",
    "        line=re.sub(p,\"limit\",line)\n",
    "        sv=\"\"\n",
    "        \n",
    "    line=re.sub(\"SQLINES DEMO \\*{3}\",\"\",line,re.I)   #주석제거\n",
    "    line=re.sub(\"/\\*\\s*\\/\",\"/* */\",line)             #sqlines에 의해 깨진 주석 보정\n",
    "    if re.search('PAD\\(TO_CHAR\\(*',line):            #pad(to_char)\n",
    "        line=re.sub('PAD\\(TO_CHAR\\(*','PAD(',line).replace(')','',1) \n",
    "    if re.search(\"TO_CHAR\\([^\\(,]+\\)\",line):          #to_char()\n",
    "        line=re.sub(\"TO_CHAR\\([^\\(,]+\\)\",\"cast(\"+line[line.find('(')+1:line.find(')')]+\" as char)\" ,line)\n",
    "    if re.search(pChar,line) and re.search(pNum,line): #to_char안에 number formatting\n",
    "        line= line.replace('TO_CHAR','format').replace('999,999,999','0')\n",
    "    \n",
    "    converted= re.sub(\"(?<!\\%)[\\w]+[^'+\\w+']\",toLower,line) #소문자변환(' '제외)\n",
    "   \n",
    "    if len(converted.strip())>0:\n",
    "        lists.append(converted)\n",
    "\n",
    "if justCmnt:    #주석라인 정렬\n",
    "    dt=list(map(lambda x: x.replace('\\t','    ').rstrip(),lists))\n",
    "    sqlMax=max(map(lambda x: min(len(x.split('--')[0].rstrip()),\n",
    "                                 len(x.split('/*')[0].rstrip())), dt)) #주석직전까지 max\n",
    "    for i,val in enumerate(dt):\n",
    "        mx=max(val.find('--'),val.find('/*'))\n",
    "        if  mx>sqlMax: mx=sqlMax\n",
    "        if  mx>=0:\n",
    "#             val=val[0:mx].ljust(sqlMax)+val[mx:].lstrip()  #뒤에 맞춤\n",
    "            val=val[0:mx]+'  '+val[mx:].lstrip()   #sql + 공백2 뒤에 맞춤\n",
    "        dt[i]=val.rstrip()\n",
    "else: dt=lists\n",
    "    \n",
    "del lists,inlines          \n",
    "fw.write('\\n'.join(str(val) for val in dt))\n",
    "f.close()\n",
    "fw.close()\n",
    "print('completed')"
   ]
  },
  {
   "cell_type": "markdown",
   "metadata": {},
   "source": [
    "##소문자 변환"
   ]
  },
  {
   "cell_type": "code",
   "execution_count": null,
   "metadata": {},
   "outputs": [],
   "source": [
    "#import package, def func\n",
    "import os,re\n",
    "def toLower(s):\n",
    "    str=s.group()\n",
    "    return str.lower()"
   ]
  },
  {
   "cell_type": "code",
   "execution_count": null,
   "metadata": {},
   "outputs": [],
   "source": [
    "# main script\n",
    "dName='d:/kpayins/sql전환/'\n",
    "fName='ccrj103_87.txt'\n",
    "f=open(os.path.join(dName,fName),'r',encoding='utf-8')\n",
    "\n",
    "wName=fName.split('.')[0]+'_my'+'.'+fName.split('.')[1]\n",
    "fw=open(os.path.join(dName,wName), \"w\")\n",
    "p=re.compile('AND\\s*LIMIT', re.I)\n",
    "pCmt=re.compile('^\\s--[\\d\\s\\w\\W]*')          #--주석만 있는라인\n",
    "pCmt2=re.compile('--[\\d\\s\\w\\W]*')            #라인내 --주석\n",
    "pChar=re.compile(\"\\w*TO_CHAR\\([\\s\\S]+\\)\")    #to_char안에 number formatting\n",
    "sNum=re.compile(\"999,999,999\")               #to_char안에 number formatting\n",
    "\n",
    "sv=\"\"\n",
    "while True:\n",
    "    line=f.readline()\n",
    "    if not line: break\n",
    "    line=re.sub(pCmt,'',line)    #주석만 있는라인 제거 [필요할 경우 사용]\n",
    "    if len(line.strip())==0: continue\n",
    "        \n",
    "    line.replace('\\t','    ')     #tab -> space(4)\n",
    "    if line.strip()=='AND':                #sqlines에 의한 limit전환오류 보정\n",
    "        sv=line.rstrip()+\" \"\n",
    "        continue\n",
    "    else:\n",
    "        line=sv+line\n",
    "        line=re.sub(p,\"limit\",line)\n",
    "        sv=\"\"\n",
    "    line=re.sub(\"SQLINES DEMO \\*{3}\",\"\",line,re.I)   #주석제거\n",
    "    line=re.sub(\"/\\*\\s*\\/\",\"/* */\",line)             #sqlines에 의해 깨진 주석 보정\n",
    "    if re.search('PAD\\(TO_CHAR\\(*',line):\n",
    "        line=re.sub('PAD\\(TO_CHAR\\(*','PAD(',line).replace(')','',1) #pad(to_char)\n",
    "    if re.search(\"TO_CHAR\\([^\\(]+\\)\",line):          #to_char()\n",
    "        line=re.sub(\"TO_CHAR\\([^\\S]+\\)\",\"cast(\"+line[line.find('(')+1:line.find(')')]+\" as char)\" ,line)\n",
    "    if re.search(pChar,line) and re.search(pNum,line): #to_char안에 number formatting\n",
    "        line= line.replace('TO_CHAR','format').replace('999,999,999','0')\n",
    "    converted= re.sub(\"(?<!\\%)[\\w]+[^'+\\w+']\",toLower,line) #소문자변환(' '제외)\n",
    "#     print(converted)\n",
    "    fw.write(converted)\n",
    "f.close()\n",
    "fw.close()"
   ]
  },
  {
   "cell_type": "markdown",
   "metadata": {},
   "source": [
    "#주석 정렬"
   ]
  },
  {
   "cell_type": "code",
   "execution_count": null,
   "metadata": {},
   "outputs": [],
   "source": [
    "#주석을 같은 위치로 정렬\n",
    "dName='d:/kpayins/'\n",
    "fName='test_my.txt'\n",
    "f=open(os.path.join(dName,fName),'r',encoding='cp949')\n",
    "dt1=f.readlines() #file to list\n",
    "# cmtMax=max(map(lambda x: max(x.find('--'),x.find('/*')), dt)) #주석위치max\n",
    "dt=list(map(lambda x: x.replace('\\t','    ').rstrip(),dt1))\n",
    "sqlMax=max(map(lambda x: min(len(x.split('--')[0].rstrip()),\n",
    "                             len(x.split('/*')[0].rstrip())), dt)) #주석직전까지 max\n",
    "for i,val in enumerate(dt):\n",
    "#     val=val.replace('\\t','    ').rstrip()\n",
    "    mx=max(val.find('--'),val.find('/*'))\n",
    "    if  mx>sqlMax: mx=sqlMax\n",
    "    if  mx>=0:\n",
    "        dt[i]=val[0:mx].ljust(sqlMax)+val[mx:].lstrip()\n",
    "    else: dt[i]=val\n",
    " \n",
    "with open(\"d:/kpayins/t.txt\", \"w\") as outfile:\n",
    "    outfile.write(\"\\n\".join(dt))"
   ]
  },
  {
   "cell_type": "markdown",
   "metadata": {},
   "source": [
    "#sql전환+주석처리"
   ]
  },
  {
   "cell_type": "code",
   "execution_count": null,
   "metadata": {},
   "outputs": [],
   "source": [
    "lists"
   ]
  }
 ],
 "metadata": {
  "kernelspec": {
   "display_name": "Python 3",
   "language": "python",
   "name": "python3"
  },
  "language_info": {
   "codemirror_mode": {
    "name": "ipython",
    "version": 3
   },
   "file_extension": ".py",
   "mimetype": "text/x-python",
   "name": "python",
   "nbconvert_exporter": "python",
   "pygments_lexer": "ipython3",
   "version": "3.7.4"
  }
 },
 "nbformat": 4,
 "nbformat_minor": 4
}
