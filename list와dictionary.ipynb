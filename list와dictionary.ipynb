{
 "cells": [
  {
   "cell_type": "markdown",
   "metadata": {},
   "source": [
    "### 아래 3개(list comprehension,for loop,map)는 같은 기능임 : list comp가 가장 빠름"
   ]
  },
  {
   "cell_type": "code",
   "execution_count": null,
   "metadata": {},
   "outputs": [],
   "source": [
    "\n",
    "#list comprehension\n",
    "[i**2 for i in range(2,8)]\n",
    "#loop\n",
    "sqr = [] \n",
    "for i in range(2,8):\n",
    "    sqr.append(i**2)\n",
    "sqr\n",
    "#map\n",
    "list(map(lambda i: i**2, range(2, 8)))"
   ]
  },
  {
   "cell_type": "code",
   "execution_count": null,
   "metadata": {},
   "outputs": [],
   "source": [
    "# list compre + if \n",
    "mylist = ['Tom', 'Jerry', 'Tom and Jerry']\n",
    "[x.upper() if len(x)>4 else x.lower() for x in mylist]\n",
    "\n",
    "# dict filter\n",
    "d = {'a': [1,2,1], 'b': [3,4,1], 'c': [5,6,2]}\n",
    "[x for x in d['b'] if x >2]\n",
    "# 복수 조건 \n",
    "# zip은 두개의 list를 묶는 함수\n",
    "[(x,y) for x, y in zip(d['a'],d['b']) if x == 1 and y > 1]\n",
    "# \n",
    "[(k,v) for k,v in d.items() if all(x > 1 for x in v) ]"
   ]
  },
  {
   "cell_type": "markdown",
   "metadata": {},
   "source": [
    "### List comp in pandas"
   ]
  },
  {
   "cell_type": "code",
   "execution_count": null,
   "metadata": {},
   "outputs": [],
   "source": [
    "\n",
    "import pandas as pd\n",
    "df = pd.DataFrame({'name': ['Tom', 'Jerry', 'Spring', 'Summer'], \n",
    "        'salary19': [70, 80, 90, 95],                   \n",
    "        'salary20': [75, 88, 75, 99]})"
   ]
  },
  {
   "cell_type": "code",
   "execution_count": null,
   "metadata": {},
   "outputs": [],
   "source": [
    "df['grd'] = [\"Higher\" if x > 70 else \"Lower\" for x in df['salary19']]"
   ]
  },
  {
   "cell_type": "code",
   "execution_count": null,
   "metadata": {},
   "outputs": [],
   "source": [
    "df['upDown'] = [\"up\" if x > y  else \"Down\" for (x,y) in zip(df['salary19'],df['salary20'])]\n",
    "#둘의 결과는 같음\n",
    "df['upDown'] =df.apply(lambda x: 'up' if x.salary20 > x.salary19 else 'down', axis=1)"
   ]
  },
  {
   "cell_type": "markdown",
   "metadata": {},
   "source": [
    "### 중첩 list compre 와 구문에서 단어추출"
   ]
  },
  {
   "cell_type": "code",
   "execution_count": null,
   "metadata": {},
   "outputs": [],
   "source": [
    "nlis = [[1,2], [3,4], [5,6]]\n",
    "[x for lis in nlis for x in lis if x%2==1]"
   ]
  },
  {
   "cell_type": "code",
   "execution_count": null,
   "metadata": {},
   "outputs": [],
   "source": [
    "text = [\"Life is beautiful\", \"need to be rich\", \"grit\"]\n",
    "[word for sentence in text for word in sentence.lower().split(' ')]"
   ]
  },
  {
   "cell_type": "markdown",
   "metadata": {},
   "source": [
    "## dictionary "
   ]
  },
  {
   "cell_type": "code",
   "execution_count": null,
   "metadata": {},
   "outputs": [],
   "source": [
    "# dict생성\n",
    "keys = ['a', 'b', 'c']\n",
    "values = [1, 2, 3]\n",
    "dict={i:j for (i,j) in zip(keys, values)}\n",
    "print(dict)"
   ]
  },
  {
   "cell_type": "code",
   "execution_count": null,
   "metadata": {},
   "outputs": [],
   "source": [
    "#dict comprehension\n",
    "{value for value in dict.values()}  # value만 추출\n",
    "#key as string\n",
    "import string\n",
    "{i:j for (i, j) in zip(string.ascii_lowercase[:5], range(5))}"
   ]
  },
  {
   "cell_type": "code",
   "execution_count": null,
   "metadata": {},
   "outputs": [],
   "source": [
    "# value에 2를 곱하기\n",
    "dic = {'a': 1, 'b': 2, 'c': 3, 'd': 4}\n",
    "{i:j*2 for (i,j) in dic.items() if j>2}"
   ]
  },
  {
   "cell_type": "code",
   "execution_count": null,
   "metadata": {},
   "outputs": [],
   "source": [
    "# remove dict with keys\n",
    "{i:dic[i] for i in dic.keys() - {'a','c'}}"
   ]
  }
 ],
 "metadata": {
  "kernelspec": {
   "display_name": "Python 3",
   "language": "python",
   "name": "python3"
  },
  "language_info": {
   "codemirror_mode": {
    "name": "ipython",
    "version": 3
   },
   "file_extension": ".py",
   "mimetype": "text/x-python",
   "name": "python",
   "nbconvert_exporter": "python",
   "pygments_lexer": "ipython3",
   "version": "3.7.4"
  }
 },
 "nbformat": 4,
 "nbformat_minor": 4
}
