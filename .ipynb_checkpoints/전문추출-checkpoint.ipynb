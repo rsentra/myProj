{
 "cells": [
  {
   "cell_type": "code",
   "execution_count": 5,
   "metadata": {},
   "outputs": [
    {
     "name": "stdout",
     "output_type": "stream",
     "text": [
      "job complted..\n"
     ]
    }
   ],
   "source": [
    "##vo를 읽어 필드명,  id, 길이를 추출\n",
    "import os,re\n",
    "import pandas as pd\n",
    "wDir='d:/kpayins/'\n",
    "sDir='C:/kis/workspace/kis-msg/kis-msg-Ext/src/main/java/com/kakaopay/msg/Ext/Idi/vo/' #개발원\n",
    "# sDir='C:/kis/workspace/kis-msg/kis-msg-Ext/src/main/java/com/kakaopay/msg/Ext/Nia/vo/' #협회\n",
    "wName='voList2.txt'\n",
    "sName=''\n",
    "f=open(os.path.join(wDir,wName),'r',encoding='utf-8')\n",
    "\n",
    "df_ListAll=pd.DataFrame()\n",
    "dd=pd.DataFrame()\n",
    "\n",
    "while True:\n",
    "    ln=f.readline()\n",
    "    if not ln: break\n",
    "        \n",
    "    sName=ln.strip()+'.java'\n",
    "    js= os.path.join(sDir,sName)\n",
    "    if not os.path.isfile(js):\n",
    "        print(sName , ' not found')\n",
    "        break\n",
    "        \n",
    "    fv=open(js,'r',encoding='utf-8')    \n",
    "    lines=fv.readlines()\n",
    "    startp=0\n",
    "    for i,line in enumerate(lines):\n",
    "        if line.find('public class')>=0:\n",
    "            startp=1 \n",
    "        elif line.find('public')>=0:\n",
    "             break\n",
    "        if startp==1:\n",
    "            line=line.strip()\n",
    "            ss= line[line.find('(')+1:line.find(')')].replace('\"','')\n",
    "            if line.find('@JsonProperty')>=0:\n",
    "                df_ListAll=pd.concat([df_ListAll,dd])\n",
    "                dd=pd.DataFrame()\n",
    "                dd.loc[0,'voName']=ln.strip()\n",
    "                dd.loc[0,'f_id']=ss\n",
    "            if line.find('@LocalName')>=0:    \n",
    "                dd.loc[0,'f_nm']=ss\n",
    "            if line.find('@Length')>=0:                \n",
    "                dd.loc[0,'f_len']=int(ss)\n",
    "\n",
    "\n",
    "df_ListAll=pd.concat([df_ListAll,dd])    \n",
    "            \n",
    "# print(df_ListAll)   \n",
    "wrt_file=wName.split('.')[0]+'.xlsx'\n",
    "with pd.ExcelWriter(os.path.join(wDir,wrt_file)) as writer:  \n",
    "         df_ListAll.to_excel(writer, sheet_name='vo field',index=False),\n",
    "        \n",
    "fv.close()\n",
    "f.close()\n",
    "print('job complted..')"
   ]
  }
 ],
 "metadata": {
  "kernelspec": {
   "display_name": "Python 3",
   "language": "python",
   "name": "python3"
  },
  "language_info": {
   "codemirror_mode": {
    "name": "ipython",
    "version": 3
   },
   "file_extension": ".py",
   "mimetype": "text/x-python",
   "name": "python",
   "nbconvert_exporter": "python",
   "pygments_lexer": "ipython3",
   "version": "3.7.4"
  }
 },
 "nbformat": 4,
 "nbformat_minor": 4
}
