{
 "cells": [
  {
   "cell_type": "code",
   "execution_count": 97,
   "metadata": {},
   "outputs": [],
   "source": [
    "from datetime import datetime,timedelta,date\n",
    "import random,os,calendar\n",
    "import numpy as np\n",
    "import pandas as pd\n",
    "import logging\n",
    "\n",
    "#기간내 랜덤일자 추출\n",
    "def random_date(start, end):\n",
    "    return start + timedelta(\n",
    "          seconds=random.randint(0, int((end - start).total_seconds())),  )\n",
    "\n",
    "##몇년,몇월,몇일 전/후\n",
    "def date_add(origin_dt,**kwargs):\n",
    "    if 'days' in kwargs:\n",
    "        add_val= int(kwargs.get('days'))\n",
    "        return origin_dt + timedelta(days=add_val)\n",
    "    elif 'years' in kwargs:\n",
    "        add_val= int(kwargs.get('years'))* 12\n",
    "    elif 'months' in kwargs:\n",
    "        add_val= int(kwargs.get('months'))\n",
    "    else: return ''\n",
    "    \n",
    "    new_year=origin_dt.year\n",
    "    new_month= origin_dt.month + add_val \n",
    "    if new_month < 0:\n",
    "          yrs= -(abs(add_val) // 12)\n",
    "    else: yrs= new_month // 12\n",
    "    new_year += yrs\n",
    "    new_month = new_month - yrs * 12\n",
    "    if new_month == 0:\n",
    "        new_year += -1\n",
    "        new_month = 12\n",
    "\n",
    "    last_day_of_month=calendar.monthrange(new_year,new_month)[1]\n",
    "    new_day=min(origin_dt.day, last_day_of_month)\n",
    "    return date(new_year,new_month,new_day)\n",
    "         \n",
    "#check digit\n",
    "def make_chk(rsNo):\n",
    "    # 리스트끼리 곱 (np이용, list연산은 더하기만 가능)\n",
    "    # string각 요소를 int형로 변환 map(int, list(rsNo)) \n",
    "    i1=np.array(list(map(int, list(rsNo))))\n",
    "    i2=np.array([2,3,4,5,6,7,8,9,2,3,4,5])\n",
    "    # chk= 11에서 각 리스트 곱의 합을 11로 나눈 나머지를 뺀 값(나머지>=10 이면 10을빼줌)\n",
    "    chk= 11 - np.sum(i1*i2) % 11\n",
    "    chk=chk if chk < 10 else chk-10\n",
    "    return chk\n",
    "\n",
    "#주민번호 생성\n",
    "def make_rsno(dt):\n",
    "    strDt=str(dt.year)[2:]+str(dt.month).zfill(2)+str(dt.day).zfill(2)\n",
    "    #성별 /지역번호\n",
    "    strSx=str(random.randrange(1,3) if dt.year<2000 else random.randrange(3,5))\n",
    "    strReg=str(random.randrange(10000, 99999))\n",
    "    rsNo=strDt+strSx+strReg\n",
    "    return rsNo+str(make_chk(rsNo))"
   ]
  },
  {
   "cell_type": "code",
   "execution_count": null,
   "metadata": {},
   "outputs": [],
   "source": [
    "for i in range(10):\n",
    "    rsno=make_rsno(random_date(date(1960,1,1),date(2001,12,31)))\n",
    "    print(rsno)"
   ]
  },
  {
   "cell_type": "code",
   "execution_count": null,
   "metadata": {},
   "outputs": [],
   "source": [
    "#차량번호\n",
    "for i in range(10):\n",
    "    gana=['가','나','다','라','마','보','거','구','조']\n",
    "    print(str(random.randrange(11,70)).zfill(2),random.choice(gana),str(random.randrange(1,9999)).zfill(4))"
   ]
  },
  {
   "cell_type": "code",
   "execution_count": 271,
   "metadata": {},
   "outputs": [],
   "source": [
    "def make_crno():\n",
    "    gana=['가','나','다','라','마','보','거','구','조']\n",
    "    return str(random.randrange(11,70)).zfill(2)+random.choice(gana)+str(random.randrange(1,9999)).zfill(4)\n",
    "\n",
    "def make_dvpns_plyno():\n",
    "    strReg=str(random.randrange(0,999999999999))\n",
    "    return strReg.zfill(12)\n",
    "\n",
    "def make_val(cstr,clen):\n",
    "    choice=cstr.split(',')\n",
    "    return random.choice(choice).rjust(clen,' ')\n",
    "\n",
    "def make_date(val):\n",
    "    strdt1,strdt2 =val.split('~')\n",
    "    dt= random_date(datetime.strptime(strdt1,'%Y%m%d'),datetime.strptime(strdt2,'%Y%m%d'))\n",
    "    return datetime.strftime(dt,'%Y%m%d')\n",
    "\n",
    "def make_date2(strDt,**kwargs):\n",
    "    dt=datetime.strptime(strDt,'%Y%m%d')\n",
    "    for key,value in kwargs.items():\n",
    "        if key=='year':\n",
    "            dt=date(dt.year+int(value),dt.month,dt.day)\n",
    "        elif key=='month':    \n",
    "            dt=add_month(dt,int(value))\n",
    "    return datetime.strftime(dt,'%Y%m%d')   "
   ]
  },
  {
   "cell_type": "code",
   "execution_count": 101,
   "metadata": {},
   "outputs": [
    {
     "data": {
      "text/plain": [
       "datetime.datetime(2020, 2, 2, 0, 0)"
      ]
     },
     "execution_count": 101,
     "metadata": {},
     "output_type": "execute_result"
    }
   ],
   "source": [
    "# make_val('11,21,22',2)\n",
    "# make_date()\n",
    "# datetime.strftime(date(2021, 1, 30),'%Y%m%d')\n",
    "# datetime.strptime('20200130','%Y%m%d')\n",
    "# make_clstr('20200130',year=1)\n",
    "dt+timedelta(days=3)"
   ]
  },
  {
   "cell_type": "code",
   "execution_count": 273,
   "metadata": {},
   "outputs": [
    {
     "name": "stdout",
     "output_type": "stream",
     "text": [
      "job completed~~\n"
     ]
    }
   ],
   "source": [
    "#excel의 layout과 컬럼명 기본값(무작위선택 리스트 포함)읽어 tsv파일을 생성\n",
    "#sample: d:/kpayins/temp/갱신율.xlsx 참조\n",
    "layout=pd.read_excel('d:/kpayins/temp/갱신율.xlsx',sheet_name='layout',dtype={'col_val': str},header=0)     \n",
    "createCnt=5\n",
    "try:\n",
    "    df=pd.DataFrame()\n",
    "    for i in range(0,createCnt):\n",
    "        dfT=pd.DataFrame()\n",
    "        for seq, row in layout.iterrows():\n",
    "    #         print('seq=',seq)\n",
    "            row=row.fillna('')\n",
    "            ran_yn= str(row['random_yn']).lower()\n",
    "            col_len=int(row['col_len'])\n",
    "            col_id= row['col_id']\n",
    "            col_val= row['col_val']\n",
    "            if ran_yn=='':\n",
    "                val= col_val.ljust(col_len,' ')\n",
    "            elif ran_yn=='rsno':\n",
    "                val=make_rsno(random_date(date(1960,1,1),date(2001,12,31)))\n",
    "            elif ran_yn=='crno':\n",
    "                val=make_crno()\n",
    "            elif ran_yn=='plyno':\n",
    "                val=make_dvpns_plyno()\n",
    "            elif ran_yn=='copy':   # 타 컬럼으로 부터 값 복사\n",
    "                from_col=col_val\n",
    "                val=dfT[from_col].values[0]\n",
    "            elif ran_yn=='random_date':\n",
    "                val=make_date(col_val)   \n",
    "            elif ran_yn.find('+') > 0:  # 특정컬럼으로 부터 계산값 만드는것 : '컬럼+계산단위'로 입력\n",
    "                from_col,from_unit =ran_yn.split('+')\n",
    "                if from_unit=='year':\n",
    "                    val=make_date2(dfT[from_col].values[0],year=col_val)\n",
    "                elif from_unit=='month':\n",
    "                    val=make_date2(dfT[from_col].values[0],month=col_val)    \n",
    "            elif ran_yn=='val':\n",
    "                val=make_val(col_val,col_len)\n",
    "            elif ran_yn=='nm':\n",
    "                val='테스형'+str(i)\n",
    "\n",
    "            val=val.ljust(col_len,' ')\n",
    "            dfT[col_id]=[val]\n",
    "        df=pd.concat([df,dfT])\n",
    "        \n",
    "    wrt_file='d:/kpayins/temp/ss.dat'\n",
    "    df.to_csv(wrt_file, index=False,sep='\\t',encoding='utf-8') \n",
    "    print(\"job completed~~\")\n",
    "    \n",
    "except  Exception as e: \n",
    "        import time\n",
    "        print(f'error occured..{str(e)}')\n",
    "        logging.info('%s ← error occured at..%s' %(str(e),time.strftime(\"%Y%m%d %H:%M:%S\",time.localtime())))\n",
    "        pass"
   ]
  },
  {
   "cell_type": "code",
   "execution_count": null,
   "metadata": {},
   "outputs": [],
   "source": [
    "dt= random_date(date(2021,1,1),date(2021,1,31))\n",
    "dt= date(2020,2,26)\n",
    "dt=date(dt.year+1,dt.month,dt.day)\n",
    "datetime.strftime(dt,'%Y%m%d')"
   ]
  },
  {
   "cell_type": "code",
   "execution_count": 291,
   "metadata": {},
   "outputs": [
    {
     "data": {
      "text/plain": [
       "datetime.date(2020, 2, 1)"
      ]
     },
     "execution_count": 291,
     "metadata": {},
     "output_type": "execute_result"
    }
   ],
   "source": [
    "# calendar.monthrange(2020,2)\n",
    "dt=date(2020,2,29)\n",
    "dt.replace(day=1)"
   ]
  },
  {
   "cell_type": "code",
   "execution_count": 267,
   "metadata": {},
   "outputs": [],
   "source": [
    "##몇 개월 전/후\n",
    "def add_month2(origin_dt, add_val):\n",
    "    new_year=origin_dt.year\n",
    "    new_month= origin_dt.month + add_val \n",
    "    if new_month < 0:\n",
    "        yrs= -(abs(add_val) // 12)\n",
    "        new_year += yrs\n",
    "        new_month = new_month - yrs * 12\n",
    "    elif new_month > 12:\n",
    "        yrs= new_month // 12\n",
    "        new_year += yrs\n",
    "        new_month = new_month - yrs * 12\n",
    "        \n",
    "    if new_month == 0:\n",
    "        new_year += -1\n",
    "        new_month = 12\n",
    "\n",
    "    last_day_of_month=calendar.monthrange(new_year,new_month)[1]\n",
    "    new_day=min(origin_dt.day, last_day_of_month)\n",
    "    return date(new_year,new_month,new_day)\n",
    "        "
   ]
  },
  {
   "cell_type": "code",
   "execution_count": 98,
   "metadata": {},
   "outputs": [
    {
     "name": "stdout",
     "output_type": "stream",
     "text": [
      "2021-12-31\n",
      "2018-06-30\n",
      "2021-03-30\n",
      "2021-01-02\n"
     ]
    }
   ],
   "source": [
    "print(date_add(date(2020,12,31),months=12))\n",
    "print(date_add(date(2020,12,31),months=-30))\n",
    "print(date_add(date(2022,3,30),years=-1))\n",
    "print(date_add(date(2020,12,31),days=2))"
   ]
  },
  {
   "cell_type": "code",
   "execution_count": 29,
   "metadata": {},
   "outputs": [
    {
     "name": "stdout",
     "output_type": "stream",
     "text": [
      "year\n"
     ]
    }
   ],
   "source": [
    "def ss(origin_dt, param):\n",
    "    a,b=param.split('=')\n",
    "    print(a)\n",
    "\n",
    "ss('a','year=1')"
   ]
  },
  {
   "cell_type": "code",
   "execution_count": 85,
   "metadata": {},
   "outputs": [
    {
     "name": "stdout",
     "output_type": "stream",
     "text": [
      "1\n"
     ]
    }
   ],
   "source": [
    "def ss(strDt,**kwargs):\n",
    "    if 'year' in kwargs:\n",
    "        print(kwargs.get('year'))\n",
    "    \n",
    "ss('a',year=1)"
   ]
  },
  {
   "cell_type": "code",
   "execution_count": 75,
   "metadata": {},
   "outputs": [
    {
     "data": {
      "text/plain": []
     },
     "metadata": {},
     "output_type": "display_data"
    }
   ],
   "source": [
    "**kwargs?"
   ]
  },
  {
   "cell_type": "code",
   "execution_count": null,
   "metadata": {},
   "outputs": [],
   "source": []
  }
 ],
 "metadata": {
  "kernelspec": {
   "display_name": "Python 3",
   "language": "python",
   "name": "python3"
  },
  "language_info": {
   "codemirror_mode": {
    "name": "ipython",
    "version": 3
   },
   "file_extension": ".py",
   "mimetype": "text/x-python",
   "name": "python",
   "nbconvert_exporter": "python",
   "pygments_lexer": "ipython3",
   "version": "3.7.4"
  }
 },
 "nbformat": 4,
 "nbformat_minor": 4
}
