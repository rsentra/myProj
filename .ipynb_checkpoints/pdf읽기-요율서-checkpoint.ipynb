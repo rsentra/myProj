{
 "cells": [
  {
   "cell_type": "code",
   "execution_count": null,
   "metadata": {},
   "outputs": [],
   "source": [
    "#요율서 pdf\n",
    "import tabula,os\n",
    "import pandas as pd\n",
    "dirN='D:/kpayins/51.약관/'\n",
    "fileN='요율서.pdf'\n",
    "#필요한 페이지를 읽어 excel로\n",
    "df=tabula.read_pdf(dirN+fileN,pages='65',pandas_options={'header':None},lattice=True)\n",
    "# pdf=tabula.read_pdf(dirN+fileN,pages='all',pandas_options={'header':None},lattice=True)"
   ]
  },
  {
   "cell_type": "code",
   "execution_count": null,
   "metadata": {},
   "outputs": [],
   "source": [
    "#위의 페이지에 따라 파일명 수정\n",
    "wrt_file='순보험료(자차)-업무용'\n",
    "wrt_file=wrt_file + '.xlsx'\n",
    "tbl=pd.DataFrame()\n",
    "for dd in df:\n",
    "    if len(dd)>1:\n",
    "        tbl=pd.concat([tbl,dd],ignore_index=True)\n",
    "    else:\n",
    "        tbl=pd.concat([tbl,dd],ignore_index=True)\n",
    "        \n",
    "tbl.to_excel(os.path.join(dirN,wrt_file), sheet_name='layout',index=False,header=False),"
   ]
  },
  {
   "cell_type": "markdown",
   "metadata": {},
   "source": [
    "# 순보험료excel"
   ]
  },
  {
   "cell_type": "code",
   "execution_count": 186,
   "metadata": {},
   "outputs": [],
   "source": [
    "import os\n",
    "import pandas as pd\n",
    "import numpy as np\n",
    "#코드표\n",
    "fileA='D:/kpayins/11.Tobe분석/룰/가입금액코드.xlsx'\n",
    "amtCd=pd.read_excel(fileA,header=0,dtype={'코드':object})\n",
    "amtCd=amtCd.drop_duplicates(['명칭'], keep='first') #명칭 중복제거\n",
    "#보험료표\n",
    "ikd='업무용'\n",
    "dirN='D:/kpayins/51.약관/'\n",
    "fileX='순보험료-업무용.xlsx'\n",
    "data=pd.read_excel(dirN+fileX,sheet_name='layout',header=0,encoding='utf-8')  \n",
    "#pdf에서 넘어온 \\r제거\n",
    "data['차종1']=data['차종1'].apply(lambda x: str(x).replace('\\r',' '))\n",
    "    \n",
    "df=data.set_index(['담보','차종1','차종2']) #row index\n",
    "df=df.fillna(0)"
   ]
  },
  {
   "cell_type": "code",
   "execution_count": 187,
   "metadata": {},
   "outputs": [],
   "source": [
    "def cha(a,b,c):\n",
    "    res=''\n",
    "#     print(a,b)\n",
    "    a=a.strip().replace(' ','')\n",
    "    b=b.strip().replace(' ','')\n",
    "   \n",
    "    try:\n",
    "        if c=='개인용':\n",
    "            if (a in dict_per.keys()) & (b in dict_per[a].keys()):\n",
    "                res=dict_per[a][b]\n",
    "        else:\n",
    "            if (a in dict_biz.keys()) & (b in dict_biz[a].keys()):\n",
    "                res=dict_biz[a][b]\n",
    "        if  res!='':\n",
    "            return '\"'+res+'\"'\n",
    "        print('차종 오류',a,b)\n",
    "    except KeyError:\n",
    "        print('차종key 오류',a,b)\n",
    "        return ''\n",
    "    \n",
    "dict_per={'초소형':{'':'2C'},'소형A':{'':'20'},'소형B':{'':'21'},'중형':{'':'22'},\n",
    "          '대형'  :{'세단형':'23','기타':'48'},\n",
    "          '다인승1종'  :{'':'74'},\n",
    "          '다인승2종'  :{'7~8인승':'75','9~10인승':'75'}}\n",
    "\n",
    "dict_biz={'개인소유승합자동차(버스)':{'1종':'11','2종':'12','3종':'73','캠핑카':'72','경승합':'14'},\n",
    "          '개인소유화물자동차'     :{'1종':'32','2종':'31','3종':'30','4종밴형':'29','4종일반형':'42','경화물':'43','초소형':'4C'}}\n",
    "\n",
    "def ridecnt(a,b):\n",
    "    res=''\n",
    "    a=a.strip().replace(' ','')\n",
    "    b=b.strip().replace(' ','')\n",
    "    if (a=='다인승2종') & (b=='7~8인승'): res='>=7  AND <=8'\n",
    "    elif (a=='다인승2종') & (b=='9~10인승'): res='>=9  AND <=10'\n",
    "    return res\n",
    "\n",
    "def dmul(a,b):\n",
    "    res=a\n",
    "    if (a=='{대물2}') & (b=='2천만원'):\n",
    "        res = '{대물2},{대물1}'\n",
    "    return res\n",
    "    \n",
    "def dambo(dd):\n",
    "    dd['기본담보']=dd.담보.map({'대인':'{대인2}','대물':'{대물2}','자손':'{자손}','자상':'{자동차상해}'\n",
    "                         ,'자차':'{자차손해}','무보험차':'{무보험차상해}'})\n",
    "    dd['기본담보']=dd.apply(lambda x: '{대인1}' if x['금액']=='자배법' else x['기본담보'],axis=1)\n",
    "    dd['기본담보']=dd.apply(lambda x: dmul(x['기본담보'],x['금액']),axis=1)\n",
    "    return dd"
   ]
  },
  {
   "cell_type": "code",
   "execution_count": 198,
   "metadata": {},
   "outputs": [
    {
     "name": "stdout",
     "output_type": "stream",
     "text": [
      "completed\n"
     ]
    }
   ],
   "source": [
    "def proc(df,dmb):\n",
    "    d1=df.loc[dmb]        #담보만\n",
    "    d1.columns=d1.iloc[0] #첫 row의 값을 컬럼명으로\n",
    "    d1=d1.iloc[1:]        #첫row제외\n",
    "    d1=pd.DataFrame(d1.stack()).reset_index() #column -> row\n",
    "    d1['담보']=dmb\n",
    "    d1.columns=['차종1','차종2','금액','보험료','담보']\n",
    "    #차종1이 비었으면 앞row의 값으로 채움\n",
    "    d1['차종1']=d1['차종1'].apply(lambda x: None if (x.strip()=='')|(x=='nan') else x).fillna(method='ffill')\n",
    "    d1=d1.fillna('').loc[d1.담보!='']\n",
    "    d1=d1[d1.보험료!=0]\n",
    "    \n",
    "    #각 항목생성\n",
    "    d1['정원']=d1.apply(lambda x: ridecnt(x['차종1'],x['차종2']),axis=1) \n",
    "    d1['차종']=d1.apply(lambda x: cha(x['차종1'],x['차종2'],ikd),axis=1)\n",
    "    d1['상품분류코드']='{'+ikd+'}'\n",
    "    d1['일반공동']='\"01\"'\n",
    "    if ikd=='개인용':\n",
    "        d1['차량용도']='\"01\"'\n",
    "    else: d1['차량용도']=''\n",
    "    d1['금액']=d1['금액'].apply(lambda x: str(x).replace(' ',''))\n",
    "    d1=d1.set_index('금액').join(amtCd.set_index('명칭')['가입금액'],on='금액',how='left').reset_index()\n",
    "    d1=dambo(d1)\n",
    "    d1['desc']=d1.apply(lambda x: x['담보']+' '+x['금액'], axis=1)\n",
    "    d1['자기부담율']=''\n",
    "    d1['상품코드']=''\n",
    "    d1['개인법인']=''\n",
    "    d1['연령한정']=''\n",
    "    d1['운전한정']=''\n",
    "    d1['적재']=''\n",
    "    d1['담보특성']=''\n",
    "    d1['대체비용']=''\n",
    "    return d1\n",
    "\n",
    "dfAll=pd.DataFrame()\n",
    "#각 담보별로 보험료표 생성\n",
    "dmbs=['대인','대물','자손','자상','무보험차','자차']\n",
    "for dmb in dmbs:\n",
    "    dfAll=pd.concat([dfAll,proc(df,dmb)])\n",
    "\n",
    "#결과를 excel로 \n",
    "wrt_file=ikd+'rate.xlsx'\n",
    "cols1=['desc','상품분류코드','상품코드','일반공동','개인법인','차량용도','연령한정','운전한정','차종','정원','적재','담보특성','기본담보','가입금액','대체비용','자기부담율','보험료']\n",
    "cols2=['담보','차종1','차종2','금액']\n",
    "cols=cols1+cols2\n",
    "with pd.ExcelWriter(dirN+wrt_file) as writer:  \n",
    "              dfAll[cols].to_excel(writer, sheet_name='rate',index=False)\n",
    "print('completed')"
   ]
  },
  {
   "cell_type": "code",
   "execution_count": null,
   "metadata": {},
   "outputs": [],
   "source": [
    "d1=tbl.iloc[:,[0,1]]\n",
    "d2=tbl.iloc[:,[2,3]]\n",
    "d1.columns={'등급','율'}\n",
    "d2.columns={'등급','율'}\n",
    "dd=pd.concat([d1[1:],d2[1:]])\n"
   ]
  }
 ],
 "metadata": {
  "kernelspec": {
   "display_name": "Python 3",
   "language": "python",
   "name": "python3"
  },
  "language_info": {
   "codemirror_mode": {
    "name": "ipython",
    "version": 3
   },
   "file_extension": ".py",
   "mimetype": "text/x-python",
   "name": "python",
   "nbconvert_exporter": "python",
   "pygments_lexer": "ipython3",
   "version": "3.7.4"
  }
 },
 "nbformat": 4,
 "nbformat_minor": 4
}
