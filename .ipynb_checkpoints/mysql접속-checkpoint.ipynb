{
 "cells": [
  {
   "cell_type": "code",
   "execution_count": null,
   "metadata": {},
   "outputs": [],
   "source": [
    "import pyodbc\n",
    "connection_string = (\n",
    "    'DRIVER=MySQL ODBC 8.0 ANSI Driver;'\n",
    "    'SERVER=10.149.235.62,3306;'\n",
    "    'DATABASE=kismdbs;'\n",
    "    'UID=kisdev;'\n",
    "    'PWD=insurancetest;'\n",
    "#     'charset=utf8;'\n",
    "    'MULTI_HOST=1;'\n",
    ")\n",
    "conn=pyodbc.connect(connection_string)\n",
    "# conn.setencoding(encoding='utf-8')\n",
    "cursor=conn.cursor()\n",
    "# q=f'''\n",
    "#  select * from ins_crdif_inq_agr_adm\n",
    "# -- select * from ins_cvrcl_net_av\n",
    "\n",
    "# '''\n",
    "# cursor.execute(q)\n",
    "# for row in cursor:\n",
    "#     print(row)\n",
    "\n",
    "# conn.close()\n",
    "print('completed..')"
   ]
  },
  {
   "cell_type": "code",
   "execution_count": null,
   "metadata": {},
   "outputs": [],
   "source": [
    "import pandas as pd\n",
    "# df=pd.read_excel('c:/kpayins/temp/ins_crdif_inq_agr_adm.xlsx',sheet_name='data',header=0,dtype='object')\n",
    "# ss=list(df.loc[0,:])\n",
    "# ss1=[str(x).replace('nan','NULL') for x in ss]\n",
    "df=pd.read_excel('c:/kpayins/temp/ins_crdif_inq_agr_adm.xlsx',sheet_name='data',header=0,dtype='object',na_filter=False)\n",
    "ss=list(df.loc[0,:])\n",
    "params=[str(x) for x in ss]"
   ]
  },
  {
   "cell_type": "code",
   "execution_count": null,
   "metadata": {},
   "outputs": [],
   "source": [
    "cols=list(df.columns)\n",
    "q=f'''\n",
    " insert into ins_crdif_inq_agr_adm\n",
    " ( {\",\".join([str(x) for x in cols])} )\n",
    " values \n",
    " ( {\",\".join([\"?\" for x in params])} )\n",
    "'''\n",
    "q=q.replace('\\n','')"
   ]
  },
  {
   "cell_type": "code",
   "execution_count": null,
   "metadata": {},
   "outputs": [],
   "source": [
    "#q='update ins_crdif_inq_agr_adm set wrcs_kndcd=\"55\" where aid=20'\n",
    "cursor1=conn.cursor()\n",
    "cursor1.execute(q, params)\n",
    "cursor1.commit()"
   ]
  },
  {
   "cell_type": "code",
   "execution_count": null,
   "metadata": {},
   "outputs": [],
   "source": [
    "pd.read_excel?"
   ]
  },
  {
   "cell_type": "code",
   "execution_count": null,
   "metadata": {},
   "outputs": [],
   "source": [
    "# bulk insert 1\n",
    "for row_count in range(0, df_op.shape[0]):\n",
    "      chunk = df_op.iloc[row_count:row_count + 1,:].values.tolist()\n",
    "      tuple_of_tuples = tuple(tuple(x) for x in chunk)\n",
    "      cursor.executemany(\"insert into test\" + \" ([col_name1],   col_name2],[col_name3],[col_name4],[col_name5],[col_name6],[col_name7],[col_name8],[col_name9],[col_name10]) values   (?,?,?,?,?,?,?,?,?,?)\",tuple_of_tuples)"
   ]
  },
  {
   "cell_type": "code",
   "execution_count": null,
   "metadata": {},
   "outputs": [],
   "source": [
    "# bulk insert 2\n",
    "cursor.fast_executemany = True\n",
    "for row_count in range(0, df_op.shape[0]):\n",
    "   chunk = df_op.iloc[row_count:row_count + 1,:].values.tolist()\n",
    "   tuple_of_tuples = tuple(tuple(x) for x in chunk)\n",
    "   cursor.executemany(\"insert into test\" + \" ([col_name1],   col_name2],[col_name3],[col_name4],[col_name5],[col_name6],[col_name7],[col_name8],[col_name9],[col_name10]) values   (?,?,?,?,?,?,?,?,?,?)\",tuple_of_tuples)"
   ]
  },
  {
   "cell_type": "code",
   "execution_count": null,
   "metadata": {},
   "outputs": [],
   "source": [
    "# bulk insert 3\n",
    "import urllib,sqlalchemy\n",
    "db_params = urllib.parse.quote_plus(connection_string)\n",
    "engine = sqlalchemy.create_engine(\"mssql+pyodbc:///?odbc_connect={}\".format(db_params))\n",
    "#df is the dataframe; test is table name in which this dataframe is #inserted\n",
    "# df.to_sql('ins_crdif_inq_agr_adm,engine',engine,index=False,if_exists=\"append\",schema=\"dbo\")\n",
    "dt=df.T\n",
    "dt.to_sql('ins_crdif_inq_agr_adm',con=engine,index=True)"
   ]
  },
  {
   "cell_type": "code",
   "execution_count": null,
   "metadata": {},
   "outputs": [],
   "source": [
    "df.to_sql?"
   ]
  },
  {
   "cell_type": "code",
   "execution_count": null,
   "metadata": {},
   "outputs": [],
   "source": [
    "# bulk insert 4 : 가장 빠름\n",
    "from sqlalchemy import event\n",
    "@event.listens_for(engine, \"before_cursor_execute\")\n",
    "def receive_before_cursor_execute(\n",
    "       conn, cursor, statement, params, context, executemany\n",
    "        ):\n",
    "       if executemany:\n",
    "            cursor.fast_executemany = True\n",
    "\n",
    "df.to_sql(tbl, engine, index=False, if_exists=\"append\", schema=\"dbo\")"
   ]
  },
  {
   "cell_type": "code",
   "execution_count": null,
   "metadata": {},
   "outputs": [],
   "source": []
  }
 ],
 "metadata": {
  "kernelspec": {
   "display_name": "Python 3",
   "language": "python",
   "name": "python3"
  },
  "language_info": {
   "codemirror_mode": {
    "name": "ipython",
    "version": 3
   },
   "file_extension": ".py",
   "mimetype": "text/x-python",
   "name": "python",
   "nbconvert_exporter": "python",
   "pygments_lexer": "ipython3",
   "version": "3.7.4"
  }
 },
 "nbformat": 4,
 "nbformat_minor": 4
}
