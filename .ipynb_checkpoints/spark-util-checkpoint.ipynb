{
 "cells": [
  {
   "cell_type": "code",
   "execution_count": null,
   "metadata": {},
   "outputs": [],
   "source": [
    "shell_params=['nm','20201101','20211130']\n",
    "nm=['stdt','nddt']\n",
    "val=shell_params[1:]\n",
    "\n",
    "def set_sql_params(shell_params,qVars,dTypes='str'):\n",
    "    shell_params= shell_params[1:]\n",
    "    if len(shell_params)!=len(qVars):\n",
    "        print('params count error...',shell_params,qVars)\n",
    "    strQ=\"'\" if dTypes.lower().find('str')>=0 else \"\"\n",
    "#     setFn=lambda a,z: \"@\"+ a +\"=\" + strQ+z+strQ +\";\"\n",
    "    setFn=lambda a,z: f\"set @{a}={strQ}{z}{strQ};\"\n",
    "    return ' '.join(list(map(setFn,qVars,shell_params)))\n",
    "\n",
    "print(set_sql_params(shell_params,nm),shell_params)"
   ]
  },
  {
   "cell_type": "code",
   "execution_count": null,
   "metadata": {},
   "outputs": [],
   "source": [
    "# df.dtypes\n",
    "# df.head() # first n row\n",
    "# df.show() # content\n",
    "# df.first() # first row\n",
    "# df.take(5)\n",
    "# df.describe().show() #summary\n",
    "# df.columns\n",
    "# df.count()\n",
    "# df.distinct().count()\n",
    "# df.explain() #pysical/logical plan\n",
    "df.printSchema()"
   ]
  },
  {
   "cell_type": "code",
   "execution_count": null,
   "metadata": {},
   "outputs": [],
   "source": [
    "q=\"select last_day(to_date('20201228','yyyyMMdd'))\"\n",
    "print(sc.sql(q).first()[0])"
   ]
  },
  {
   "cell_type": "code",
   "execution_count": null,
   "metadata": {},
   "outputs": [],
   "source": [
    "def sd_dec(a, b):\n",
    "    return '' if b is None else b.replace('<ENC>','')"
   ]
  },
  {
   "cell_type": "code",
   "execution_count": null,
   "metadata": {},
   "outputs": [],
   "source": [
    "import os\n",
    "# 파일체크\n",
    "d='c:/kis/workspace/kis-batch-job/file_home/ccr/btCcrJ301'\n",
    "for root,dirs,files in os.walk(d):\n",
    "    print(root,'-', dirs)\n",
    "    for fname in files:\n",
    "#         full_name=os.path.join(root,fname)\n",
    "        full_name=fname\n",
    "        print(full_name)\n"
   ]
  },
  {
   "cell_type": "code",
   "execution_count": null,
   "metadata": {},
   "outputs": [],
   "source": [
    "#dir명을 받아서 파일명,건수,최종수정일자 출력\n",
    "def print_file_info(path):\n",
    "    a=[s for s in os.listdir(path) if os.path.isfile(os.path.join(path,s))]\n",
    "    a.sort(key=lambda s: os.path.getmtime(os.path.join(path,s)))\n",
    "    for f in a:\n",
    "        full_name= os.path.join(path,f)\n",
    "        num_lines= open(full_name,'r',encoding='utf-8').read().count('\\n')\n",
    "        print(f.ljust(40,' '),num_lines, ' ',time.strftime('%Y/%m/%d %H:%M:%S',time.localtime(os.path.getmtime(full_name))))\n",
    "    \n",
    "    d='c:/kis/workspace/kis-batch-job/file_home/ccr/btCcrJ301'\n",
    "print_file_info(d)"
   ]
  },
  {
   "cell_type": "code",
   "execution_count": null,
   "metadata": {},
   "outputs": [],
   "source": [
    "#라인길이가 500 초과 라인 출력\n",
    "dName='c:/kis/workspace/kis-batch-job/python/ccr'\n",
    "fName='TSP-btCcrJ301.py'\n",
    "\n",
    "sv_line={}\n",
    "with open(os.path.join(dName,fName), \"r\",encoding='utf-8') as f:\n",
    "    inlines=f.readlines()\n",
    "    lists=[]\n",
    "    for i,line in enumerate(inlines):\n",
    "        if (len(line)>500) & (line.lower().find('case')>=0):\n",
    "            if line.count('--')>0:\n",
    "                print(i+1, ' ', len(line),line.split('--')[0])\n",
    "                sv_line[i+1]= line.split('--')[0]\n",
    "                print(i+1, '--', len(line),line.split('--')[1].replace('  ',' ').replace('\\t',''))\n",
    "            else:\n",
    "                print(i+1, ' ', len(line),line)\n",
    "                sv_line[i+1]= line\n",
    "            print(' ')"
   ]
  },
  {
   "cell_type": "code",
   "execution_count": null,
   "metadata": {},
   "outputs": [],
   "source": [
    "def splitLine(lst,val):\n",
    "    res=[]\n",
    "    for str in lst:\n",
    "        for ii,y in enumerate(str.split(val)):\n",
    "            y=y.replace(\"'\",'\"')\n",
    "            if ii==0:\n",
    "                res.append(y)\n",
    "            else: \n",
    "                res.append(val +' ' + y)\n",
    "    return res\n",
    "#위에서 만든 dict중 exp만들려는 라인\n",
    "res=[sv_line[5940]]\n",
    "res= splitLine(res,'when')\n",
    "res= splitLine(res,'case')\n",
    "res= splitLine(res,'else')\n",
    "# res= splitLine(res,'end')\n",
    "# print(res)\n",
    "print(f\"calc_exp=(\")\n",
    "for i in res[1:]:\n",
    "     print(f\"f'    {i}\\\\n'\")\n",
    "#     print(f\"{i}\")\n",
    "print(f\")\")"
   ]
  },
  {
   "cell_type": "code",
   "execution_count": null,
   "metadata": {},
   "outputs": [],
   "source": [
    "dName='d:/temp'\n",
    "fName='4846--요일제특약_미경과보험료.txt'\n",
    "with open(os.path.join(dName,fName), \"r\",encoding='utf-8') as f:\n",
    "    inlines=f.readlines()\n",
    "    lists=[]\n",
    "    for i,line in enumerate(inlines):\n",
    "        line=line.replace('\\n','')\n",
    "        print(f\"f'    {line} \\\\n'\")"
   ]
  },
  {
   "cell_type": "code",
   "execution_count": null,
   "metadata": {},
   "outputs": [],
   "source": [
    "def find_all(a_str, sub):\n",
    "    start = 0\n",
    "    while True:\n",
    "        start = a_str.find(sub, start)\n",
    "        if start == -1: return\n",
    "        yield start\n",
    "        start += len(sub) # use start += 1 to find overlapping matches\n",
    "\n",
    "# list(find_all(ss, 'case')) # [0, 5, 10, 15]\n",
    "l=list(find_all(ss, 'when'))\n"
   ]
  },
  {
   "cell_type": "code",
   "execution_count": 258,
   "metadata": {},
   "outputs": [],
   "source": [
    "wkDate=''\n",
    "calc_expr4=(\n",
    "f'    case   \\n'\n",
    "f'      when  trim(A.SYS_MPV_DT) = \"\" then  \\n'\n",
    "f'            case   \\n'\n",
    "f'            when  A.CVRCD != \"CCA00011\" and trim(A.TRTCD) != \"CCA00139\" and substr(trim(A.WEEK_YN), 1, 1) != \"N\" then  \\n'\n",
    "f'                case   \\n'\n",
    "f'                    when  A.CVR_INS_ST > \"{wkDate}\" then  \\n'\n",
    "f'                        round((cast(B.RP_PRM as float) / A.WEEK_DCTP_RT) * A.WEEK_RT * A.XPT_RT, -1)  \\n'\n",
    "f'                    else  round((cast(A.TRT_AP_CVR_PRMSM as float) / A.WEEK_DCTP_RT) * A.WEEK_RT * A.XPT_RT, -1) \\n'\n",
    "f'                end  \\n'\n",
    "f'             else  0  \\n'\n",
    "f'            end /* CCA00011*/ \\n'\n",
    "f'        else   \\n'\n",
    "f'           case   \\n'\n",
    "f'              when  trim(A.CVR_SEQNO2) = \"1\" then  \\n'\n",
    "f'                case   \\n'\n",
    "f'                when  A.CVRCD != \"CCA00011\" and trim(A.TRTCD) != \"CCA00139\" and substr(trim(A.WEEK_YN), 1, 1) != \"N\" \\n'\n",
    "f'                  then  \\n'\n",
    "f'                    case   \\n'\n",
    "f'                      when  A.CVR_INS_ST2 > \"{wkDate}\" then  \\n'\n",
    "f'                          round((cast(A.TRT_AP_CVR_PRMSM as float) / A.WEEK_DCTP_RT) * (A.DAY1 / A.DAY2) * A.WEEK_RT * A.XPT_RT, -1)  \\n'\n",
    "f'                      else  round((cast(A.TRT_AP_CVR_PRMSM as float) / A.WEEK_DCTP_RT) * (A.DAY1 / A.DAY2) * A.WEEK_RT * A.XPT_RT, -1) \\n'\n",
    "f'                    end  \\n'\n",
    "f'                 else  0 \\n'\n",
    "f'                 end  \\n'\n",
    "f'              else  /* cvr_seqno2!=\"1\" \\n'\n",
    "f'                 case   \\n'\n",
    "f'                    when  A.CVRCD != \"CCA00011\" and trim(A.TRTCD) != \"CCA00139\" and substr(trim(A.WEEK_YN), 1, 1) != \"N\" then  \\n'\n",
    "f'                        case   \\n'\n",
    "f'                        when  A.CVR_INS_ST2 > \"{wkDate}\" then  \\n'\n",
    "f'                                round((cast(B.RP_PRM as float) / A.WEEK_DCTP_RT) * (A.DAY1 / A.DAY2) * A.WEEK_RT * A.XPT_RT, -1)  \\n'\n",
    "f'                        else  round((cast(A.TRT_AP_CVR_PRMSM as float) / A.WEEK_DCTP_RT) * (A.DAY1 / A.DAY2) * A.WEEK_RT * A.XPT_RT, -1)  \\n'\n",
    "f'                        end  \\n'\n",
    "f'                   else  0 \\n'\n",
    "f'                 end /*cvr_seqno2끝*/ \\n'\n",
    "f'        end /*sys_mpv_dt끝*/ \\n'\n",
    "f'    end as nelp_prm_week_temp  \\n'\n",
    ")"
   ]
  },
  {
   "cell_type": "code",
   "execution_count": 259,
   "metadata": {},
   "outputs": [
    {
     "data": {
      "text/plain": [
       "'    case   \\n      when  trim(A.SYS_MPV_DT) = \"\" then  \\n            case   \\n            when  A.CVRCD != \"CCA00011\" and trim(A.TRTCD) != \"CCA00139\" and substr(trim(A.WEEK_YN), 1, 1) != \"N\" then  \\n                case   \\n                    when  A.CVR_INS_ST > \"\" then  \\n                        round((cast(B.RP_PRM as float) / A.WEEK_DCTP_RT) * A.WEEK_RT * A.XPT_RT, -1)  \\n                    else  round((cast(A.TRT_AP_CVR_PRMSM as float) / A.WEEK_DCTP_RT) * A.WEEK_RT * A.XPT_RT, -1) \\n                end  \\n             else  0  \\n            end /* CCA00011*/ \\n        else   \\n           case   \\n              when  trim(A.CVR_SEQNO2) = \"1\" then  \\n                case   \\n                when  A.CVRCD != \"CCA00011\" and trim(A.TRTCD) != \"CCA00139\" and substr(trim(A.WEEK_YN), 1, 1) != \"N\" \\n                  then  \\n                    case   \\n                      when  A.CVR_INS_ST2 > \"\" then  \\n                          round((cast(A.TRT_AP_CVR_PRMSM as float) / A.WEEK_DCTP_RT) * (A.DAY1 / A.DAY2) * A.WEEK_RT * A.XPT_RT, -1)  \\n                      else  round((cast(A.TRT_AP_CVR_PRMSM as float) / A.WEEK_DCTP_RT) * (A.DAY1 / A.DAY2) * A.WEEK_RT * A.XPT_RT, -1) \\n                    end  \\n                 else  0 \\n                 end  \\n              else  /* cvr_seqno2!=\"1\" \\n                 case   \\n                    when  A.CVRCD != \"CCA00011\" and trim(A.TRTCD) != \"CCA00139\" and substr(trim(A.WEEK_YN), 1, 1) != \"N\" then  \\n                        case   \\n                        when  A.CVR_INS_ST2 > \"\" then  \\n                                round((cast(B.RP_PRM as float) / A.WEEK_DCTP_RT) * (A.DAY1 / A.DAY2) * A.WEEK_RT * A.XPT_RT, -1)  \\n                        else  round((cast(A.TRT_AP_CVR_PRMSM as float) / A.WEEK_DCTP_RT) * (A.DAY1 / A.DAY2) * A.WEEK_RT * A.XPT_RT, -1)  \\n                        end  \\n                   else  0 \\n                 end /*cvr_seqno2끝*/ \\n        end /*sys_mpv_dt끝*/ \\n    end as nelp_prm_week_temp  \\n'"
      ]
     },
     "execution_count": 259,
     "metadata": {},
     "output_type": "execute_result"
    }
   ],
   "source": [
    "calc_expr4"
   ]
  },
  {
   "cell_type": "code",
   "execution_count": null,
   "metadata": {},
   "outputs": [],
   "source": []
  }
 ],
 "metadata": {
  "kernelspec": {
   "display_name": "Python 3",
   "language": "python",
   "name": "python3"
  },
  "language_info": {
   "codemirror_mode": {
    "name": "ipython",
    "version": 3
   },
   "file_extension": ".py",
   "mimetype": "text/x-python",
   "name": "python",
   "nbconvert_exporter": "python",
   "pygments_lexer": "ipython3",
   "version": "3.7.4"
  }
 },
 "nbformat": 4,
 "nbformat_minor": 4
}
