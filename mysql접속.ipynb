{
 "cells": [
  {
   "cell_type": "markdown",
   "metadata": {},
   "source": [
    "### connect to mysql"
   ]
  },
  {
   "cell_type": "code",
   "execution_count": null,
   "metadata": {},
   "outputs": [],
   "source": [
    "import pandas as pd\n",
    "import pyodbc\n",
    "\n",
    "def update_qry(conn):  #차량가액테이블 연식구분 A/B 설정\n",
    "    cursor=conn.cursor()\n",
    "    q=f\"\"\"\n",
    "update  ins_cramt_info set nwcr_flgcd= case when mfg_ap_str_dthms>='20200701' then 'A' else 'B' end \n",
    "where opedt='20210101'\n",
    " and yytp='2020'\n",
    "      \"\"\"\n",
    "    \n",
    "    q=f\"\"\"\n",
    "delete from ins_cramt_info\n",
    "where opedt='20210101'\n",
    " and yytp='2020'\n",
    " and cnmcd='11R02'\n",
    " and nwcr_flgcd in ('A','B')\n",
    "  \"\"\"\n",
    "    cursor.execute(q)\n",
    "    return 'succ'\n",
    "\n",
    "\n",
    "def sample_qry(conn):\n",
    "    cursor=conn.cursor()\n",
    "    q=f\"\"\"\n",
    "select  * from ins_crdif_inq_agr_adm\n",
    "-- where opedt='20210101'\n",
    "-- and yytp='2020'\n",
    "limit 1\n",
    "      \"\"\"\n",
    "    cursor.execute(q)\n",
    "    res=[]\n",
    "    for row in cursor:\n",
    "        res.append(row)\n",
    "#         print(row)\n",
    "#     conn.close()\n",
    "    return res\n",
    "\n",
    "#server: 개발 dev-core.. qa: qa_core.. \n",
    "\n",
    "def get_conn(db):\n",
    "    if db=='dev':\n",
    "        SERVER= 'dev-core-myaurora.cluster-cuwugfq70vdv.ap-northeast-2.rds.amazonaws.com'\n",
    "        PWD=''\n",
    "        PORT='3306'\n",
    "    elif db=='qa':    \n",
    "        SERVER= 'qa-core-myaurora.cluster-cuwugfq70vdv.ap-northeast-2.rds.amazonaws.com'\n",
    "        PWD=''\n",
    "        PORT='3306'\n",
    "    else:\n",
    "        SERVER= 'prod-core-myaurora.cluster-cuwugfq70vdv.ap-northeast-2.rds.amazonaws.com'\n",
    "        PWD=''\n",
    "        PORT='34242'\n",
    "        \n",
    "    drv = 'pymy'\n",
    "    if drv == 'pyodbc':    \n",
    "        connection_string = f\"\"\"\n",
    "            DRIVER=MySQL ODBC 8.0 ANSI Driver;\n",
    "            SERVER={SERVER};\n",
    "            PORT={PORT};\n",
    "            DATABASE=kismdbs;\n",
    "            UID=kisdev;\n",
    "            PWD={PWD};\n",
    "            cursorclass=pyodbc.cursors.DictCursor;\n",
    "        #     'charset=utf8;'\n",
    "            MULTI_HOST=1;\n",
    "        \"\"\"    \n",
    "        conn = pyodbc.connect(connection_string)\n",
    "    else\n",
    "        connection_string = f\"\"\"\n",
    "            host = {SERVER},\n",
    "            user = kisdev,\n",
    "            password = {PWD},\n",
    "            database = kismdbs,\n",
    "            charset =utf8,\n",
    "            port = 3306,\n",
    "            cursorclass=pymysql.cursors.DictCursor\n",
    "         \"\"\"\n",
    "         conn = pymysql.connect(connection_string)\n",
    "    return conn\n",
    "\n",
    "# insert sql 생성 ----------------\n",
    "def make_sql(tbl,row):\n",
    "    #값이 있는 컬럼의 index to list\n",
    "    non_empty=[i for i in range(0,len(row)) if row[i] !=\"\"]\n",
    "    #값이 있는 컬럼명만 추출 to list\n",
    "    cols=[str(x) for x in row.index[non_empty]]\n",
    "    #값만 추출 to list\n",
    "    params=[str(row[i]) for i in non_empty]\n",
    "#     print(len(cols),len(params))\n",
    "    q=f'''\n",
    "      insert into {tbl}\n",
    "      ( {\",\".join([str(i) for i in cols])} )\n",
    "      values \n",
    "      ( {\",\".join([\"?\" for i in params])} )\n",
    "     '''\n",
    "    q= q.replace('\\n','')\n",
    "#     print(q)\n",
    "    return q,params"
   ]
  },
  {
   "cell_type": "code",
   "execution_count": null,
   "metadata": {},
   "outputs": [],
   "source": [
    "# sample qry 또는 update qry 실행\n",
    "conn=get_conn('prod')\n",
    "# res=update_qry(conn)\n",
    "# print(res[0])\n",
    "# conn.close()\n",
    "\n",
    "res=sample_qry(conn)\n",
    "print(res)\n",
    "print('completed..')"
   ]
  },
  {
   "cell_type": "markdown",
   "metadata": {},
   "source": [
    "### 시스템간 table 데이터 복사 ( row by row ) "
   ]
  },
  {
   "cell_type": "code",
   "execution_count": null,
   "metadata": {},
   "outputs": [],
   "source": [
    "conn_fr=get_conn('dev')\n",
    "conn_to=get_conn('prod')\n",
    "cursor_to=conn_to.cursor()"
   ]
  },
  {
   "cell_type": "code",
   "execution_count": null,
   "metadata": {},
   "outputs": [],
   "source": [
    "# sources={\"ins_cramt_info\" : \"opedt='20210101' and yytp='2020' limit 2\"}\n",
    "sources={\"ins_cramt_info\" : \" yr='2020' and qtr='4' \"}\n",
    " \n",
    "for tbl,where in sources.items():\n",
    "    # select from src\n",
    "    q=f\"\"\" select  * from {tbl} where {where}  \"\"\"\n",
    "#     q=f\"\"\" select  * from {tbl}   \"\"\"\n",
    "    df=pd.read_sql(q,con=conn_fr)\n",
    "    \n",
    "    # insert to target\n",
    "    cursor = conn_to.cursor()\n",
    "    for i, row in df.iterrows():\n",
    "        q,params = make_sql(tbl,row)\n",
    "        cursor.execute(q, params)\n",
    "        if i%1000 == 0:\n",
    "            conn_to.commit()\n",
    "            print(i,'번째')\n",
    "        #     print(q,params)\n",
    "    conn_to.commit()\n",
    "    conn_to.close()\n",
    "print('completed...')"
   ]
  },
  {
   "cell_type": "markdown",
   "metadata": {},
   "source": [
    "### 시스템간 테이블 복사 (bulk)"
   ]
  },
  {
   "cell_type": "code",
   "execution_count": null,
   "metadata": {},
   "outputs": [],
   "source": [
    "conn_fr = get_conn('dev')\n",
    "conn_to = get_conn('prod')\n",
    "cursor_to = conn_to.cursor()"
   ]
  },
  {
   "cell_type": "code",
   "execution_count": null,
   "metadata": {},
   "outputs": [],
   "source": [
    "''' execute many 다건처리 '''\n",
    "\n",
    "commit_cnt = 1000   #commit 단위\n",
    "sources={\"ins_cramt_info\" : \" yr='2020' and qtr='3' \"}\n",
    " \n",
    "for tbl,where in sources.items():\n",
    "    # select from src\n",
    "    q = f\"\"\" select  * from {tbl} where {where}  \"\"\"\n",
    "    df = pd.read_sql(q,con=conn_fr)\n",
    "    df = df.fillna('')\n",
    "    \n",
    "    # insert to target\n",
    "    cursor = conn_to.cursor()\n",
    "    cursor.fast_executemany = True\n",
    "    cls = \",\".join([i for i in df.columns])\n",
    "    cls_p = \",\".join([\"?\" for i in df.columns])\n",
    "    q_str= f''' insert into {tbl} ({cls}) values   ({cls_p}) '''\n",
    "    cnt = 0\n",
    "    while True:\n",
    "        params = (tuple(row) for i,row in df.iloc[cnt:cnt+commit_cnt].iterrows() )\n",
    "        cursor.executemany(q_str,params)\n",
    "        conn_to.commit()\n",
    "        cnt += commit_cnt\n",
    "        print('commit:', cnt)\n",
    "        if cnt >= len(df):\n",
    "            break\n",
    "            \n",
    "conn_to.close()\n",
    "print('completed...')"
   ]
  },
  {
   "cell_type": "code",
   "execution_count": null,
   "metadata": {},
   "outputs": [],
   "source": [
    "# 임시사용 로직\n",
    "import pandas as pd\n",
    "df = pd.DataFrame([ str(i).split(',') for i in res])\n",
    "df.columns = ['cd','nm','ss']\n",
    "df['cd'] = df['cd'].map(lambda x: x.replace('(','').replace(')','')).replace(\"'\",'')\n",
    "df['nm'] = df['nm'].map(lambda x: x.replace('(','').replace(')','')).replace(\"'\",'')\n",
    "df.to_excel('c:/kpayins/temp/carnm.xlsx')"
   ]
  },
  {
   "cell_type": "markdown",
   "metadata": {},
   "source": [
    "### excel to mysql db"
   ]
  },
  {
   "cell_type": "code",
   "execution_count": null,
   "metadata": {},
   "outputs": [],
   "source": [
    "import pandas as pd\n",
    "tbl='ins_crdif_inq_agr_adm'\n",
    "sht='data'\n",
    "path='c:/kpayins/temp/'+tbl+'_등록.xlsx'\n",
    "\n",
    "tbl = 'ins_prs_cr_ctp'\n",
    "sht = 'ins_prs_cr_ctp'\n",
    "path = 'c:/kpayins/temp/carnm.xlsx'\n",
    "\n",
    "# df=pd.read_excel('c:/kpayins/temp/ins_crdif_inq_agr_adm.xlsx',sheet_name='data',header=0,dtype='object')\n",
    "df = pd.read_excel(path,sheet_name=sht,header=0,dtype='object',na_filter=False)"
   ]
  },
  {
   "cell_type": "code",
   "execution_count": null,
   "metadata": {},
   "outputs": [],
   "source": [
    "conn = get_conn('prod')\n",
    "cursor = conn.cursor()\n",
    "\n",
    "for i,row in df.iterrows():\n",
    "    q,params = make_sql(tbl,row)\n",
    "    cursor.execute(q, params)\n",
    "    if i%1000 == 0:\n",
    "        conn.commit()\n",
    "        print(i,'번째')\n",
    "     #    print(q,params)\n",
    "    conn.commit()\n",
    "    conn.close()\n",
    "print('completed...')"
   ]
  },
  {
   "cell_type": "markdown",
   "metadata": {},
   "source": [
    "## 이하는 참고용"
   ]
  },
  {
   "cell_type": "markdown",
   "metadata": {},
   "source": [
    "### sqlalchemy 활용- orm모델\n",
    "https://docs.sqlalchemy.org/en/13/orm/tutorial.html"
   ]
  },
  {
   "cell_type": "code",
   "execution_count": 1,
   "metadata": {},
   "outputs": [],
   "source": [
    "''' create engine with pymysql'''\n",
    "import sqlalchemy as sa\n",
    "import pandas as pd\n",
    "from  sqlalchemy import MetaData\n",
    "\n",
    "SERVER ='localhost:3306'\n",
    "ID ='glad'\n",
    "PWD ='glad9'\n",
    "DB ='glad'\n",
    "\n",
    "connection_string = 'mysql+pymysql://{}:{}@{}/{}'.format(ID, PWD, SERVER, DB)\n",
    "engine = sa.create_engine(connection_string, echo=False, encoding='utf-8')"
   ]
  },
  {
   "cell_type": "code",
   "execution_count": null,
   "metadata": {},
   "outputs": [],
   "source": [
    "# to pandas \n",
    "import pandas as pd\n",
    "indata = pd.read_sql_query(\"select * from cars\", engine)"
   ]
  },
  {
   "cell_type": "code",
   "execution_count": null,
   "metadata": {},
   "outputs": [],
   "source": [
    "engine.table_names()"
   ]
  },
  {
   "cell_type": "code",
   "execution_count": null,
   "metadata": {},
   "outputs": [],
   "source": [
    "# print each row\n",
    "with engine.connect() as con:\n",
    "    rs = con.execute('select * from roles')\n",
    "    for row in rs:\n",
    "        print(row)"
   ]
  },
  {
   "cell_type": "code",
   "execution_count": null,
   "metadata": {},
   "outputs": [],
   "source": [
    "# fectch\n",
    "rs= engine.execute('select * from cars')\n",
    "rows=rs.fetchall()\n",
    "print(rows)\n",
    "\n",
    "rows=rs.first()\n",
    "print(rows)"
   ]
  },
  {
   "cell_type": "code",
   "execution_count": null,
   "metadata": {},
   "outputs": [],
   "source": [
    "# connect ->df \n",
    "with engine.connect() as con:\n",
    "    rs = con.execute(\"SELECT * FROM cars\")\n",
    "#     df = pd.DataFrame(rs.fetchmany(size=5))\n",
    "    df = pd.DataFrame(rs.fetchall())\n",
    "    df.columns = rs.keys()\n",
    "df"
   ]
  },
  {
   "cell_type": "code",
   "execution_count": null,
   "metadata": {},
   "outputs": [],
   "source": [
    "#column속성 찾기\n",
    "from sqlalchemy import inspect\n",
    "inspector = inspect(engine)\n",
    "inspector.get_columns('roles')"
   ]
  },
  {
   "cell_type": "code",
   "execution_count": null,
   "metadata": {},
   "outputs": [],
   "source": [
    "connection = engine.connect()\n",
    "metadata = sa.MetaData()\n",
    "table = sa.Table('cars', metadata, autoload=True, autoload_with=engine)\n",
    "print(table.columns.keys())\n",
    "\n",
    "# select * from table 과 같음\n",
    "query = sa.select([table])\n",
    "\n",
    "# 이때 query의 내용을 출력해보면 sql query인 것을 알 수 있음\n",
    "# print(query)\n",
    "\n",
    "# 쿼리 실행\n",
    "result_proxy = connection.execute(query)\n",
    "result_set = result_proxy.fetchall()\n",
    "\n",
    "# 결과 print 이때 10개만 출력하도록 함. 단순한 set 자료구조의 형태를 하고 있음.\n",
    "print(result_set[:10])"
   ]
  },
  {
   "cell_type": "markdown",
   "metadata": {},
   "source": [
    "### pymysql raw driver\n",
    "https://pymysql.readthedocs.io/en/latest/modules/cursors.html"
   ]
  },
  {
   "cell_type": "code",
   "execution_count": 2,
   "metadata": {},
   "outputs": [
    {
     "name": "stdout",
     "output_type": "stream",
     "text": [
      "((0,),)\n"
     ]
    }
   ],
   "source": [
    "import pymysql as my\n",
    "import time\n",
    "def get_conn(uid, upw):\n",
    "    conn = my.connect(\n",
    "        host = 'localhost',\n",
    "        user = uid,\n",
    "        password = upw,\n",
    "        database = 'glad',\n",
    "        charset = 'utf8',\n",
    "        port = 3306,\n",
    "#         cursorclass = my.cursors.DictCursor\n",
    "    )\n",
    "    return conn\n",
    "\n",
    "conn = get_conn('glad','glad9')\n",
    "try:\n",
    "    with conn.cursor() as cursor:\n",
    "        query = \"\"\"\n",
    "                select count(*) from roles\n",
    "            \"\"\"\n",
    "        cursor.execute(query)\n",
    "#         result = cursor.fetchone()\n",
    "        result = cursor.fetchall()\n",
    "           \n",
    "finally:\n",
    "    conn.close()\n",
    "print(result)"
   ]
  },
  {
   "cell_type": "markdown",
   "metadata": {},
   "source": [
    "###  bulk insert 속도비교 \n",
    "1.sqlalchemy  \n",
    "2.df.to_sql  \n",
    "3.mysql.bulk insert  "
   ]
  },
  {
   "cell_type": "code",
   "execution_count": 9,
   "metadata": {},
   "outputs": [],
   "source": [
    "''' delete all '''\n",
    "conn = get_conn('glad','glad9')\n",
    "cursor = conn.cursor()\n",
    "cursor.execute('delete from roles')\n",
    "conn.commit()\n",
    "conn.close()"
   ]
  },
  {
   "cell_type": "code",
   "execution_count": 6,
   "metadata": {},
   "outputs": [
    {
     "name": "stdout",
     "output_type": "stream",
     "text": [
      "SQLAlchemy Core: Total time for 100000 records 6.440404415130615 secs\n"
     ]
    }
   ],
   "source": [
    "''' bulk insert 1: '''\n",
    "from sqlalchemy.ext.declarative import declarative_base\n",
    "from sqlalchemy import Column, Integer, String,  create_engine\n",
    "from sqlalchemy.orm import scoped_session, sessionmaker\n",
    "dicts = [{\"id\": i,\"name\":'name'+str(i),\"desc\": 'desc'+str(i)} for i in range(0,100000)]\n",
    "\n",
    "Base = declarative_base()\n",
    "class Roles(Base):\n",
    "    __tablename__ = \"roles\"\n",
    "    id = Column(Integer, primary_key=True)\n",
    "    name = Column(String(60))\n",
    "    description = Column(String(200))\n",
    "\n",
    "t0 = time.time()\n",
    "engine.execute(\n",
    "        Roles.__table__.insert(),dicts)\n",
    "print(\"SQLAlchemy Core: Total time for \" + str(len(dicts)) +\n",
    "        \" records \" + str(time.time() - t0) + \" secs\")"
   ]
  },
  {
   "cell_type": "code",
   "execution_count": 8,
   "metadata": {},
   "outputs": [
    {
     "name": "stdout",
     "output_type": "stream",
     "text": [
      "Total time for 100000 records 8.088884830474854 sec\n"
     ]
    }
   ],
   "source": [
    "''' # bulk insert 2:   '''\n",
    "from sqlalchemy import event,inspect\n",
    "import pandas as pd\n",
    "inspector = inspect(engine)\n",
    "\n",
    "ls = [[i,'name'+str(i),'desc'+str(i)] for i in range(0,100000)]\n",
    "\n",
    "df = pd.DataFrame(ls)\n",
    "df.columns = [ i['name'] for i in inspector.get_columns('roles')]  # get column names\n",
    "\n",
    "# conn = get_conn('glad','glad9')\n",
    "# cursor = conn.cursor()\n",
    "@event.listens_for(engine, \"before_cursor_execute\")\n",
    "def receive_before_cursor_execute(\n",
    "    conn, cursor, statement, params, context, executemany\n",
    "    ):\n",
    "#     print('ss',executemany)  \n",
    "    if executemany:\n",
    "        cursor.fast_executemany = True\n",
    "\n",
    "# event.listen(engine, \"before_cursor_execute\", receive_before_cursor_execute)\n",
    "t0 = time.time()\n",
    "df.to_sql('roles', engine, index=False, if_exists=\"append\",schema='glad')\n",
    "print(\"Total time for \" + str(len(ls)) + \" records \" + str(time.time() - t0) + \" sec\")"
   ]
  },
  {
   "cell_type": "code",
   "execution_count": 10,
   "metadata": {},
   "outputs": [
    {
     "name": "stdout",
     "output_type": "stream",
     "text": [
      "core: Total time for 100000 records 8.784225225448608 sec\n"
     ]
    }
   ],
   "source": [
    "''' bulk insert 3: '''\n",
    "import time\n",
    "conn = get_conn('glad','glad9')\n",
    "cursor = conn.cursor()\n",
    "q_str= f''' insert into roles (id,name,description) values (%s,%s,%s) '''\n",
    "ls = [[i,'name'+str(i),'desc'+str(i)] for i in range(0,100000)]\n",
    "# row  = tuple(tuple(x) for x in ls)\n",
    "row = tuple(ls)\n",
    "\n",
    "t0 = time.time() \n",
    "cursor.executemany(q_str,row)\n",
    "\n",
    "conn.commit()\n",
    "print(\"core: Total time for \" + str(len(row)) +\n",
    "        \" records \" + str(time.time() - t0) + \" sec\")"
   ]
  },
  {
   "cell_type": "code",
   "execution_count": null,
   "metadata": {},
   "outputs": [],
   "source": []
  }
 ],
 "metadata": {
  "kernelspec": {
   "display_name": "Python 3",
   "language": "python",
   "name": "python3"
  },
  "language_info": {
   "codemirror_mode": {
    "name": "ipython",
    "version": 3
   },
   "file_extension": ".py",
   "mimetype": "text/x-python",
   "name": "python",
   "nbconvert_exporter": "python",
   "pygments_lexer": "ipython3",
   "version": "3.7.4"
  }
 },
 "nbformat": 4,
 "nbformat_minor": 4
}
