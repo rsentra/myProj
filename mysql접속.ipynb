{
 "cells": [
  {
   "cell_type": "markdown",
   "metadata": {},
   "source": [
    "### connect to mysql"
   ]
  },
  {
   "cell_type": "code",
   "execution_count": null,
   "metadata": {},
   "outputs": [],
   "source": [
    "import pandas as pd\n",
    "import pyodbc\n",
    "\n",
    "def update_qry(conn):  #차량가액테이블 연식구분 A/B 설정\n",
    "    cursor=conn.cursor()\n",
    "    q=f\"\"\"\n",
    "update  ins_cramt_info set nwcr_flgcd= case when mfg_ap_str_dthms>='20200701' then 'A' else 'B' end \n",
    "where opedt='20210101'\n",
    " and yytp='2020'\n",
    "      \"\"\"\n",
    "    \n",
    "    q=f\"\"\"\n",
    "delete from ins_cramt_info\n",
    "where opedt='20210101'\n",
    " and yytp='2020'\n",
    " and cnmcd='11R02'\n",
    " and nwcr_flgcd in ('A','B')\n",
    "  \"\"\"\n",
    "    cursor.execute(q)\n",
    "    cursor.commit()\n",
    "    return 'succ'\n",
    "\n",
    "\n",
    "def sample_qry(conn):\n",
    "    cursor=conn.cursor()\n",
    "    q=f\"\"\"\n",
    "select  * from ins_crdif_inq_agr_adm\n",
    "-- where opedt='20210101'\n",
    "-- and yytp='2020'\n",
    "limit 1\n",
    "      \"\"\"\n",
    "    cursor.execute(q)\n",
    "    res=[]\n",
    "    for row in cursor:\n",
    "        res.append(row)\n",
    "#         print(row)\n",
    "#     conn.close()\n",
    "    return res\n",
    "\n",
    "#server: 개발 dev-core.. qa: qa_core.. \n",
    "\n",
    "def get_conn(db):\n",
    "    if db=='dev':\n",
    "        SERVER= 'dev-core-myaurora.cluster-cuwugfq70vdv.ap-northeast-2.rds.amazonaws.com'\n",
    "        PWD=''\n",
    "        PORT='3306'\n",
    "    elif db=='qa':    \n",
    "        SERVER= 'qa-core-myaurora.cluster-cuwugfq70vdv.ap-northeast-2.rds.amazonaws.com'\n",
    "        PWD=''\n",
    "        PORT='3306'\n",
    "    else:\n",
    "        SERVER= 'prod-core-myaurora.cluster-cuwugfq70vdv.ap-northeast-2.rds.amazonaws.com'\n",
    "        PWD=''\n",
    "        PORT='34242'\n",
    "        \n",
    "    connection_string = f\"\"\"\n",
    "        DRIVER=MySQL ODBC 8.0 ANSI Driver;\n",
    "        SERVER={SERVER};\n",
    "        PORT={PORT};\n",
    "        DATABASE=kismdbs;\n",
    "        UID=kisdev;\n",
    "        PWD={PWD};\n",
    "        cursorclass=pyodbc.cursors.DictCursor;\n",
    "    #     'charset=utf8;'\n",
    "        MULTI_HOST=1;\n",
    "    \"\"\"\n",
    "    conn=pyodbc.connect(connection_string)\n",
    "    return conn\n",
    "\n",
    "# insert sql 생성 ----------------\n",
    "def make_sql(tbl,row):\n",
    "    #값이 있는 컬럼의 index to list\n",
    "    non_empty=[i for i in range(0,len(row)) if row[i] !=\"\"]\n",
    "    #값이 있는 컬럼명만 추출 to list\n",
    "    cols=[str(x) for x in row.index[non_empty]]\n",
    "    #값만 추출 to list\n",
    "    params=[str(row[i]) for i in non_empty]\n",
    "#     print(len(cols),len(params))\n",
    "    q=f'''\n",
    "      insert into {tbl}\n",
    "      ( {\",\".join([str(i) for i in cols])} )\n",
    "      values \n",
    "      ( {\",\".join([\"?\" for i in params])} )\n",
    "     '''\n",
    "    q= q.replace('\\n','')\n",
    "#     print(q)\n",
    "    return q,params"
   ]
  },
  {
   "cell_type": "code",
   "execution_count": null,
   "metadata": {},
   "outputs": [],
   "source": [
    "# sample qry 또는 update qry 실행\n",
    "conn=get_conn('prod')\n",
    "# res=update_qry(conn)\n",
    "# print(res[0])\n",
    "# conn.close()\n",
    "\n",
    "res=sample_qry(conn)\n",
    "print(res)\n",
    "print('completed..')"
   ]
  },
  {
   "cell_type": "markdown",
   "metadata": {},
   "source": [
    "### 시스템간 table 데이터 복사 ( row by row ) "
   ]
  },
  {
   "cell_type": "code",
   "execution_count": null,
   "metadata": {},
   "outputs": [],
   "source": [
    "conn_fr=get_conn('dev')\n",
    "conn_to=get_conn('prod')\n",
    "cursor_to=conn_to.cursor()"
   ]
  },
  {
   "cell_type": "code",
   "execution_count": null,
   "metadata": {},
   "outputs": [],
   "source": [
    "# sources={\"ins_cramt_info\" : \"opedt='20210101' and yytp='2020' limit 2\"}\n",
    "sources={\"ins_cramt_info\" : \" yr='2020' and qtr='4' \"}\n",
    " \n",
    "for tbl,where in sources.items():\n",
    "    # select from src\n",
    "    q=f\"\"\" select  * from {tbl} where {where}  \"\"\"\n",
    "#     q=f\"\"\" select  * from {tbl}   \"\"\"\n",
    "    df=pd.read_sql(q,con=conn_fr)\n",
    "    \n",
    "    # insert to target\n",
    "    cursor=conn_to.cursor()\n",
    "    for i, row in df.iterrows():\n",
    "        q,params = make_sql(tbl,row)\n",
    "        cursor.execute(q, params)\n",
    "        if i%1000 == 0:\n",
    "            cursor.commit()\n",
    "            print(i,'번째')\n",
    "        #     print(q,params)\n",
    "    cursor.commit()\n",
    "    cursor.close()\n",
    "print('completed...')"
   ]
  },
  {
   "cell_type": "markdown",
   "metadata": {},
   "source": [
    "### 시스템간 테이블 복사 (bulk)"
   ]
  },
  {
   "cell_type": "code",
   "execution_count": null,
   "metadata": {},
   "outputs": [],
   "source": [
    "conn_fr = get_conn('dev')\n",
    "conn_to = get_conn('prod')\n",
    "cursor_to = conn_to.cursor()"
   ]
  },
  {
   "cell_type": "code",
   "execution_count": null,
   "metadata": {},
   "outputs": [],
   "source": [
    "### execute many 다건처리 \n",
    "commit_cnt = 1000   #commit 단위\n",
    "sources={\"ins_cramt_info\" : \" yr='2020' and qtr='3' \"}\n",
    " \n",
    "for tbl,where in sources.items():\n",
    "    # select from src\n",
    "    q = f\"\"\" select  * from {tbl} where {where}  \"\"\"\n",
    "    df = pd.read_sql(q,con=conn_fr)\n",
    "    df = df.fillna('')\n",
    "    \n",
    "    # insert to target\n",
    "    cursor = conn_to.cursor()\n",
    "    cursor.fast_executemany = True\n",
    "    cls = \",\".join([i for i in df.columns])\n",
    "    cls_p = \",\".join([\"?\" for i in df.columns])\n",
    "    q_str= f''' insert into {tbl} ({cls}) values   ({cls_p}) '''\n",
    "    cnt = 0\n",
    "    while True:\n",
    "        params = (tuple(row) for i,row in df.iloc[cnt:cnt+commit_cnt].iterrows() )\n",
    "        cursor.executemany(q_str,params)\n",
    "        cursor.commit()\n",
    "        cnt += commit_cnt\n",
    "        print('commit:', cnt)\n",
    "        if cnt >= len(df):\n",
    "            break\n",
    "            \n",
    "cursor.close()\n",
    "print('completed...')"
   ]
  },
  {
   "cell_type": "code",
   "execution_count": null,
   "metadata": {},
   "outputs": [],
   "source": [
    "# 임시사용 로직\n",
    "import pandas as pd\n",
    "df = pd.DataFrame([ str(i).split(',') for i in res])\n",
    "df.columns = ['cd','nm','ss']\n",
    "df['cd'] = df['cd'].map(lambda x: x.replace('(','').replace(')','')).replace(\"'\",'')\n",
    "df['nm'] = df['nm'].map(lambda x: x.replace('(','').replace(')','')).replace(\"'\",'')\n",
    "df.to_excel('c:/kpayins/temp/carnm.xlsx')"
   ]
  },
  {
   "cell_type": "markdown",
   "metadata": {},
   "source": [
    "### excel to mysql db"
   ]
  },
  {
   "cell_type": "code",
   "execution_count": null,
   "metadata": {},
   "outputs": [],
   "source": [
    "import pandas as pd\n",
    "# tbl='ins_crdif_inq_agr_adm'\n",
    "# tbl='ins_cr_scp_rt'\n",
    "# sht='data'\n",
    "# path='c:/kpayins/temp/'+tbl+'_등록.xlsx'\n",
    "\n",
    "tbl = 'ins_prs_cr_ctp'\n",
    "sht = 'ins_prs_cr_ctp'\n",
    "path = 'c:/kpayins/temp/carnm.xlsx'\n",
    "\n",
    "# df=pd.read_excel('c:/kpayins/temp/ins_crdif_inq_agr_adm.xlsx',sheet_name='data',header=0,dtype='object')\n",
    "df = pd.read_excel(path,sheet_name=sht,header=0,dtype='object',na_filter=False)"
   ]
  },
  {
   "cell_type": "markdown",
   "metadata": {},
   "source": [
    "## 이하는 참고용"
   ]
  },
  {
   "cell_type": "code",
   "execution_count": null,
   "metadata": {},
   "outputs": [],
   "source": [
    "# bulk insert 1\n",
    "for row_count in range(0, df_op.shape[0]):\n",
    "      chunk = df_op.iloc[row_count:row_count + 1,:].values.tolist()\n",
    "      tuple_of_tuples = tuple(tuple(x) for x in chunk)\n",
    "      cursor.executemany(\"insert into test\" + \" ([col_name1],   col_name2],[col_name3],[col_name4],[col_name5],[col_name6],[col_name7],[col_name8],[col_name9],[col_name10]) values   (?,?,?,?,?,?,?,?,?,?)\",tuple_of_tuples)"
   ]
  },
  {
   "cell_type": "code",
   "execution_count": null,
   "metadata": {},
   "outputs": [],
   "source": [
    "# bulk insert 2\n",
    "cursor.fast_executemany = True\n",
    "for row_count in range(0, df_op.shape[0]):\n",
    "   chunk = df_op.iloc[row_count:row_count + 1,:].values.tolist()\n",
    "   tuple_of_tuples = tuple(tuple(x) for x in chunk)\n",
    "   cursor.executemany(\"insert into test\" + \" ([col_name1],   col_name2],[col_name3],[col_name4],[col_name5],[col_name6],[col_name7],[col_name8],[col_name9],[col_name10]) values   (?,?,?,?,?,?,?,?,?,?)\",tuple_of_tuples)"
   ]
  },
  {
   "cell_type": "code",
   "execution_count": null,
   "metadata": {},
   "outputs": [],
   "source": [
    "# bulk insert 3\n",
    "import urllib,sqlalchemy\n",
    "db_params = urllib.parse.quote_plus(connection_string)\n",
    "engine = sqlalchemy.create_engine(\"mssql+pyodbc:///?odbc_connect={}\".format(db_params))\n",
    "#df is the dataframe; test is table name in which this dataframe is #inserted\n",
    "# df.to_sql('ins_crdif_inq_agr_adm,engine',engine,index=False,if_exists=\"append\",schema=\"dbo\")\n",
    "# dt=df.T\n",
    "# dt.to_sql('ins_crdif_inq_agr_adm',con=engine,index=True)"
   ]
  },
  {
   "cell_type": "code",
   "execution_count": null,
   "metadata": {},
   "outputs": [],
   "source": [
    "# bulk insert 4 : 가장 빠름\n",
    "from sqlalchemy import event\n",
    "@event.listens_for(engine, \"before_cursor_execute\")\n",
    "def receive_before_cursor_execute(\n",
    "       conn, cursor, statement, params, context, executemany\n",
    "        ):\n",
    "       if executemany:\n",
    "            cursor.fast_executemany = True\n",
    "\n",
    "df.to_sql(tbl, engine, index=False, if_exists=\"append\", schema=\"dbo\")"
   ]
  },
  {
   "cell_type": "markdown",
   "metadata": {},
   "source": [
    "### sqlalchemy 활용- orm모델"
   ]
  },
  {
   "cell_type": "code",
   "execution_count": null,
   "metadata": {},
   "outputs": [],
   "source": [
    "''' create engine with pymysql'''\n",
    "import sqlalchemy as sa\n",
    "import pandas as pd\n",
    "from  sqlalchemy import MetaData\n",
    "\n",
    "SERVER='localhost:3306'\n",
    "ID='glad'\n",
    "PWD='glad9'\n",
    "DB='glad'\n",
    "\n",
    "connection_string = 'mysql+pymysql://{}:{}@{}/{}'.format(ID, PWD, SERVER, DB)\n",
    "engine = sa.create_engine(connection_string, echo=False, encoding='utf-8')"
   ]
  },
  {
   "cell_type": "code",
   "execution_count": null,
   "metadata": {},
   "outputs": [],
   "source": [
    "# to pandas \n",
    "import pandas as pd\n",
    "indata = pd.read_sql_query(\"select * from cars\", engine)"
   ]
  },
  {
   "cell_type": "code",
   "execution_count": null,
   "metadata": {},
   "outputs": [],
   "source": [
    "engine.table_names()\n",
    "\n",
    "# print each row\n",
    "with engine.connect() as con:\n",
    "    rs = con.execute('select * from cars')\n",
    "    for row in rs:\n",
    "        print(row)"
   ]
  },
  {
   "cell_type": "code",
   "execution_count": null,
   "metadata": {},
   "outputs": [],
   "source": [
    "# fectch\n",
    "rs= engine.execute('select * from cars')\n",
    "rows=rs.fetchall()\n",
    "print(rows)\n",
    "\n",
    "rows=rs.first()\n",
    "print(rows)"
   ]
  },
  {
   "cell_type": "code",
   "execution_count": null,
   "metadata": {},
   "outputs": [],
   "source": [
    "# connect ->df \n",
    "with engine.connect() as con:\n",
    "    rs = con.execute(\"SELECT * FROM cars\")\n",
    "#     df = pd.DataFrame(rs.fetchmany(size=5))\n",
    "    df = pd.DataFrame(rs.fetchall())\n",
    "    df.columns = rs.keys()\n",
    "df"
   ]
  },
  {
   "cell_type": "code",
   "execution_count": null,
   "metadata": {},
   "outputs": [],
   "source": [
    "#column속성 찾기\n",
    "from sqlalchemy import inspect\n",
    "inspector = inspect(engine)\n",
    "inspector.get_columns('cars')"
   ]
  },
  {
   "cell_type": "code",
   "execution_count": null,
   "metadata": {},
   "outputs": [],
   "source": [
    "connection = engine.connect()\n",
    "metadata = sa.MetaData()\n",
    "table = sa.Table('cars', metadata, autoload=True, autoload_with=engine)\n",
    "print(table.columns.keys())\n",
    "\n",
    "# select * from table 과 같음\n",
    "query = sa.select([table])\n",
    "\n",
    "# 이때 query의 내용을 출력해보면 sql query인 것을 알 수 있음\n",
    "# print(query)\n",
    "\n",
    "# 쿼리 실행\n",
    "result_proxy = connection.execute(query)\n",
    "result_set = result_proxy.fetchall()\n",
    "\n",
    "# 결과 print 이때 10개만 출력하도록 함. 단순한 set 자료구조의 형태를 하고 있음.\n",
    "print(result_set[:10])"
   ]
  },
  {
   "cell_type": "code",
   "execution_count": null,
   "metadata": {},
   "outputs": [],
   "source": []
  }
 ],
 "metadata": {
  "kernelspec": {
   "display_name": "Python 3",
   "language": "python",
   "name": "python3"
  },
  "language_info": {
   "codemirror_mode": {
    "name": "ipython",
    "version": 3
   },
   "file_extension": ".py",
   "mimetype": "text/x-python",
   "name": "python",
   "nbconvert_exporter": "python",
   "pygments_lexer": "ipython3",
   "version": "3.7.4"
  }
 },
 "nbformat": 4,
 "nbformat_minor": 4
}
