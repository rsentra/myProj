{
 "cells": [
  {
   "cell_type": "code",
   "execution_count": 107,
   "metadata": {},
   "outputs": [
    {
     "name": "stdout",
     "output_type": "stream",
     "text": [
      "(1, '10000000000003', '02', '이순자', '7303252011212', 'kpayins070', '02', datetime.datetime(9999, 12, 31, 0, 0), datetime.datetime(2020, 11, 19, 15, 55, 34), '1', datetime.date(2020, 11, 19), datetime.date(9999, 12, 31), None, 'kpayins070', '1', '1', None, None, None, None, None, None, None, None, None, None, '330000034', datetime.date(2020, 11, 19), None, None, None, None, '05', '인증서또는스캔문서번호', '녹취없음', '1234', datetime.datetime(2020, 11, 19, 15, 55, 34), datetime.datetime(2020, 11, 19, 15, 55, 34), None, None, None, None, None, None, None, 'kpayins070', datetime.datetime(2020, 11, 19, 15, 55, 34), 'kpayins070', datetime.datetime(2020, 11, 19, 15, 55, 34))\n",
      "completed..\n"
     ]
    }
   ],
   "source": [
    "def sample_qry(conn):\n",
    "    cursor=conn.cursor()\n",
    "    q=f'''\n",
    "      select * from ins_crdif_inq_agr_adm limit 1\n",
    "      '''\n",
    "    cursor.execute(q)\n",
    "    for row in cursor:\n",
    "        print(row)\n",
    "    conn.close()\n",
    "\n",
    "import pyodbc\n",
    "connection_string = (\n",
    "    'DRIVER=MySQL ODBC 8.0 ANSI Driver;'\n",
    "    'SERVER=10.149.235.62,3306;'\n",
    "    'DATABASE=kismdbs;'\n",
    "    'UID=kisdev;'\n",
    "    'PWD=insurancetest;'\n",
    "#     'charset=utf8;'\n",
    "    'MULTI_HOST=1;'\n",
    ")\n",
    "conn=pyodbc.connect(connection_string)\n",
    "# conn.setencoding(encoding='utf-8')\n",
    "# sample_qry(conn)\n",
    "print('completed..')"
   ]
  },
  {
   "cell_type": "code",
   "execution_count": 102,
   "metadata": {},
   "outputs": [],
   "source": [
    "import pandas as pd\n",
    "tbl='ins_crdif_inq_agr_adm'\n",
    "tbl='ins_cr_scp_rt'\n",
    "path='c:/kpayins/temp/'+tbl+'.xlsx'\n",
    "# df=pd.read_excel('c:/kpayins/temp/ins_crdif_inq_agr_adm.xlsx',sheet_name='data',header=0,dtype='object')\n",
    "df=pd.read_excel(path,sheet_name='data',header=0,dtype='object',na_filter=False)"
   ]
  },
  {
   "cell_type": "code",
   "execution_count": 103,
   "metadata": {},
   "outputs": [
    {
     "name": "stdout",
     "output_type": "stream",
     "text": [
      "      insert into ins_cr_scp_rt      ( nrdps_rsno,carno,ins_strdt,scp_rt_seqno,rt_ud_org_flgcd,dvpns_rnwrt_xstn_yn,cr_rt_flgcd,is_crrcd,stdrt,spc_xcrt,rglt_vltcd,rglt_vltrt,rq_stdrt,rq_spc_xcrt,rq_rglt_vltrt,rq_prpbl_is_yn,bfcr_iscmp,bfcr_aprt,rq_dc_xc_grdcd,ap_dc_xc_grdcd,rq_catcd,rq_y1_clm_ct,rq_y3_clm_ct,ap_y1_clm_ct,ap_y3_clm_ct,cr_chncd,rq_rnd_mngbj_yn,inp_usr_id,inp_dthms,mdf_usr_id,mdf_dthms )      values       ( ?,?,?,?,?,?,?,?,?,?,?,?,?,?,?,?,?,?,?,?,?,?,?,?,?,?,?,?,?,?,? )      ['<ENC>7603102670812<ENC>', '19거5019', '20210121', '1', '01', '0', '01', '9', '0', '0', 'C011', '0', '0', '0', '0', '0', '99', '0', '11Z', '11Z', '21', '1', '3', '1', '3', 'MA', '0', 'kpayins049', '20210114', 'kpayins049', '20210114']\n",
      "completed...\n"
     ]
    }
   ],
   "source": [
    "def make_sql(tbl,row):\n",
    "    #값이 있는 컬럼의 index to list\n",
    "    non_empty=[i for i in range(0,len(row)) if row[i] !=\"\"]\n",
    "    #값이 있는 컬럼명만 추출 to list\n",
    "    cols=[str(x) for x in row.index[non_empty]]\n",
    "    #값만 추출 to list\n",
    "    params=[str(row[i]) for i in non_empty]\n",
    "#     print(len(cols),len(params))\n",
    "    q=f'''\n",
    "      insert into {tbl}\n",
    "      ( {\",\".join([str(i) for i in cols])} )\n",
    "      values \n",
    "      ( {\",\".join([\"?\" for i in params])} )\n",
    "     '''\n",
    "    q= q.replace('\\n','')\n",
    "#     print(q)\n",
    "    return q,params\n",
    "\n",
    "cursor=conn.cursor()\n",
    "for i, row in df.iterrows():\n",
    "    q,params= make_sql(tbl,row)\n",
    "    cursor.execute(q, params)\n",
    "    cursor.commit()\n",
    "    print(q,params)\n",
    "cursor.close()\n",
    "print('completed...')"
   ]
  },
  {
   "cell_type": "markdown",
   "metadata": {},
   "source": [
    "## 이하는 참고용"
   ]
  },
  {
   "cell_type": "code",
   "execution_count": null,
   "metadata": {},
   "outputs": [],
   "source": [
    "# bulk insert 1\n",
    "for row_count in range(0, df_op.shape[0]):\n",
    "      chunk = df_op.iloc[row_count:row_count + 1,:].values.tolist()\n",
    "      tuple_of_tuples = tuple(tuple(x) for x in chunk)\n",
    "      cursor.executemany(\"insert into test\" + \" ([col_name1],   col_name2],[col_name3],[col_name4],[col_name5],[col_name6],[col_name7],[col_name8],[col_name9],[col_name10]) values   (?,?,?,?,?,?,?,?,?,?)\",tuple_of_tuples)"
   ]
  },
  {
   "cell_type": "code",
   "execution_count": null,
   "metadata": {},
   "outputs": [],
   "source": [
    "# bulk insert 2\n",
    "cursor.fast_executemany = True\n",
    "for row_count in range(0, df_op.shape[0]):\n",
    "   chunk = df_op.iloc[row_count:row_count + 1,:].values.tolist()\n",
    "   tuple_of_tuples = tuple(tuple(x) for x in chunk)\n",
    "   cursor.executemany(\"insert into test\" + \" ([col_name1],   col_name2],[col_name3],[col_name4],[col_name5],[col_name6],[col_name7],[col_name8],[col_name9],[col_name10]) values   (?,?,?,?,?,?,?,?,?,?)\",tuple_of_tuples)"
   ]
  },
  {
   "cell_type": "code",
   "execution_count": null,
   "metadata": {},
   "outputs": [],
   "source": [
    "# bulk insert 3\n",
    "import urllib,sqlalchemy\n",
    "db_params = urllib.parse.quote_plus(connection_string)\n",
    "engine = sqlalchemy.create_engine(\"mssql+pyodbc:///?odbc_connect={}\".format(db_params))\n",
    "#df is the dataframe; test is table name in which this dataframe is #inserted\n",
    "# df.to_sql('ins_crdif_inq_agr_adm,engine',engine,index=False,if_exists=\"append\",schema=\"dbo\")\n",
    "dt=df.T\n",
    "dt.to_sql('ins_crdif_inq_agr_adm',con=engine,index=True)"
   ]
  },
  {
   "cell_type": "code",
   "execution_count": null,
   "metadata": {},
   "outputs": [],
   "source": [
    "df.to_sql?"
   ]
  },
  {
   "cell_type": "code",
   "execution_count": null,
   "metadata": {},
   "outputs": [],
   "source": [
    "# bulk insert 4 : 가장 빠름\n",
    "from sqlalchemy import event\n",
    "@event.listens_for(engine, \"before_cursor_execute\")\n",
    "def receive_before_cursor_execute(\n",
    "       conn, cursor, statement, params, context, executemany\n",
    "        ):\n",
    "       if executemany:\n",
    "            cursor.fast_executemany = True\n",
    "\n",
    "df.to_sql(tbl, engine, index=False, if_exists=\"append\", schema=\"dbo\")"
   ]
  },
  {
   "cell_type": "code",
   "execution_count": null,
   "metadata": {},
   "outputs": [],
   "source": []
  }
 ],
 "metadata": {
  "kernelspec": {
   "display_name": "Python 3",
   "language": "python",
   "name": "python3"
  },
  "language_info": {
   "codemirror_mode": {
    "name": "ipython",
    "version": 3
   },
   "file_extension": ".py",
   "mimetype": "text/x-python",
   "name": "python",
   "nbconvert_exporter": "python",
   "pygments_lexer": "ipython3",
   "version": "3.7.4"
  }
 },
 "nbformat": 4,
 "nbformat_minor": 4
}
